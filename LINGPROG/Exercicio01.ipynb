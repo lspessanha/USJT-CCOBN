{
 "cells": [
  {
   "cell_type": "markdown",
   "metadata": {},
   "source": [
    "#### 1) Faça um Programa que peça o raio de um círculo, calcule e mostre sua área."
   ]
  },
  {
   "cell_type": "code",
   "execution_count": 25,
   "metadata": {},
   "outputs": [
    {
     "name": "stdout",
     "output_type": "stream",
     "text": [
      "Para calcular a área do círculo, informe o raio: 10\n",
      "Resultado - Área do círculo: 314.0 \n"
     ]
    }
   ],
   "source": [
    "raioCirculo = int (input(\"Para calcular a área do círculo, informe o raio: \"))\n",
    "areaCirculo = 3.14 * raioCirculo **2\n",
    "\n",
    "print(\"Resultado - Área do círculo: %s \" %(areaCirculo))"
   ]
  },
  {
   "cell_type": "markdown",
   "metadata": {},
   "source": [
    "#### 2) Faça um Programa que calcule a área de um quadrado, em seguida mostre o dobro desta área para o usuário."
   ]
  },
  {
   "cell_type": "code",
   "execution_count": 26,
   "metadata": {},
   "outputs": [
    {
     "name": "stdout",
     "output_type": "stream",
     "text": [
      "Para calcular a área do quadrado, informe o tamanho de um dos lados: 5\n",
      "Área : 25 \n"
     ]
    }
   ],
   "source": [
    "lado = int(input(\"Para calcular a área do quadrado, informe o tamanho de um dos lados: \"))\n",
    "areaQuadrado = lado * lado\n",
    "\n",
    "print(\"Área : %s \" %(areaQuadrado))"
   ]
  },
  {
   "cell_type": "markdown",
   "metadata": {},
   "source": [
    "#### 3) Faça um Programa que pergunte quanto você ganha por hora e o número de horas trabalhadas no mês. Calcule e mostre o total do seu salário no referido mês."
   ]
  },
  {
   "cell_type": "code",
   "execution_count": 27,
   "metadata": {},
   "outputs": [
    {
     "name": "stdout",
     "output_type": "stream",
     "text": [
      "Informe seu salário por hora: 50\n",
      "Informe as horas trabalhadas no mês: 184\n",
      "O salário mensal é de 9200.0 reais.\n"
     ]
    }
   ],
   "source": [
    "salarioHora = float(input('Informe seu salário por hora: '))\n",
    "horasMensais = float(input('Informe as horas trabalhadas no mês: '))\n",
    "salarioMensal = salarioHora * horasMes\n",
    "\n",
    "print(\"O salário mensal é de %s reais.\" %(salarioMensal))"
   ]
  },
  {
   "cell_type": "markdown",
   "metadata": {},
   "source": [
    "#### 4) Faça um Programa que peça a temperatura em graus Farenheit, transforme e mostre a temperatura em graus Celsius. C = (5 * (F-32)/9)."
   ]
  },
  {
   "cell_type": "code",
   "execution_count": 28,
   "metadata": {},
   "outputs": [
    {
     "name": "stdout",
     "output_type": "stream",
     "text": [
      "Informe a temperatura em graus Farenheit: 95\n",
      "Farenheit: 95.0 - Celsius: 35.0 \n"
     ]
    }
   ],
   "source": [
    "farenheit = float(input('Informe a temperatura em graus Farenheit: '))\n",
    "celsius = float((farenheit - 32) / 1.8)\n",
    "\n",
    "print(\"Farenheit: %s - Celsius: %s \" %(farenheit, celsius))"
   ]
  },
  {
   "cell_type": "markdown",
   "metadata": {},
   "source": [
    "#### 5) Faça um Programa que peça a temperatura em graus Celsius, transforme e mostre em graus Farenheit."
   ]
  },
  {
   "cell_type": "code",
   "execution_count": 29,
   "metadata": {},
   "outputs": [
    {
     "name": "stdout",
     "output_type": "stream",
     "text": [
      "Informe a temperatura em graus Celsius: 35\n",
      "Celsius: 35.0 - Farenheit: 95.0 \n"
     ]
    }
   ],
   "source": [
    "celsius = float(input('Informe a temperatura em graus Celsius: '))\n",
    "farenheit = float((celsius * 1.8) + 32)\n",
    "\n",
    "print(\"Celsius: %s - Farenheit: %s \" %(celsius, farenheit))"
   ]
  },
  {
   "cell_type": "markdown",
   "metadata": {},
   "source": [
    "#### 6) Faça um Programa que peça 2 números inteiros e um número real. Calcule e mostre:\n",
    "- o produto do dobro do primeiro com metade do segundo .\n",
    "- a soma do triplo do primeiro com o terceiro.\n",
    "- o terceiro elevado ao cubo."
   ]
  },
  {
   "cell_type": "code",
   "execution_count": 30,
   "metadata": {},
   "outputs": [
    {
     "name": "stdout",
     "output_type": "stream",
     "text": [
      "Informe um número inteiro: 2\n",
      "Informe outro número inteiro: 10\n",
      "Informe um número real: 2.5\n",
      "Produto do dobro do primeiro com metade do segundo: 20.0 \n",
      "Soma do triplo do primeiro com o terceiro: 8.5 \n",
      "Terceiro elevado ao cubo: 15.625 \n"
     ]
    }
   ],
   "source": [
    "numInt1 = int(input('Informe um número inteiro: '))\n",
    "numInt2 = int(input('Informe outro número inteiro: '))\n",
    "numFloat = float(input('Informe um número real: '))\n",
    "\n",
    "res1 = (numInt1*2) * (numInt2/2)\n",
    "res2 = (numInt1*3) + numFloat\n",
    "res3 = numFloat **3\n",
    "\n",
    "print(\"Produto do dobro do primeiro com metade do segundo: %s \" %(res1))\n",
    "print(\"Soma do triplo do primeiro com o terceiro: %s \" %(res2))\n",
    "print(\"Terceiro elevado ao cubo: %s \" %(res3))"
   ]
  },
  {
   "cell_type": "markdown",
   "metadata": {},
   "source": [
    "#### 7) João Papo-de-Pescador, homem de bem, comprou um microcomputador para controlar o rendimento diário de seu trabalho. Toda vez que ele traz um peso de peixes maior que o estabelecido pelo regulamento de pesca do estado de São Paulo (50 quilos) deve pagar uma multa de RS 4,00 por quilo excedente. João precisa que você faça um programa que leia a variável peso (peso de peixes) e verifque se há excesso. Se houver, gravar na variável excesso e na variável multa o valor da multa que João deverá pagar. Caso contrário mostrar tais variáveis com o conteúdo ZERO."
   ]
  },
  {
   "cell_type": "code",
   "execution_count": 35,
   "metadata": {},
   "outputs": [
    {
     "name": "stdout",
     "output_type": "stream",
     "text": [
      "Informe o peso total de peixes pescados no dia: 51\n",
      "Peso excedido: 1.0\n",
      "Valor da multa: 4.0 \n"
     ]
    }
   ],
   "source": [
    "peso = float(input('Informe o peso total de peixes pescados no dia: '))\n",
    "limitePeso = 50\n",
    "taxa = 4.0\n",
    "excesso = peso-limitePeso\n",
    "\n",
    "if excesso > 0:\n",
    "    multa = excesso * taxa\n",
    "    print(\"Peso excedido: %s\" %(excesso))\n",
    "    print(\"Valor da multa: %s \" %(multa))\n",
    "else:\n",
    "    multa = 0\n",
    "    excesso = 0\n",
    "    print(\"Peso excedido: %s\" %(excesso))\n",
    "    print(\"Valor da multa: %s \" %(multa))"
   ]
  },
  {
   "cell_type": "markdown",
   "metadata": {},
   "source": [
    "#### 8) Faça um Programa que pergunte quanto você ganha por hora e o número de horas trabalhadas no mês. Calcule e mostre o total do seu salário no referido mês, sabendo-se que são descontados 11% para o Imposto de Renda, 8% para o INSS e 5% para o sindicato, faça um programa que nos dê:\n",
    "- salário bruto.\n",
    "- quanto pagou ao INSS.\n",
    "- quanto pagou ao sindicato.\n",
    "- o salário líquido.\n",
    "- calcule os descontos e o salário líquido, conforme a tabela abaixo:\n",
    "    + Salário Bruto : R$\n",
    "    - IR (11%) : R$\n",
    "    - INSS (8%) : R$\n",
    "    - Sindicato (5%) : R$\n",
    "    = Salário Liquido : R$\n",
    "Obs.: Salário Bruto - Descontos = Salário Líquido."
   ]
  },
  {
   "cell_type": "code",
   "execution_count": 41,
   "metadata": {},
   "outputs": [
    {
     "name": "stdout",
     "output_type": "stream",
     "text": [
      "Informe o seu salário por hora trabalhada: 50\n",
      "Informe as horas trabalhadas no mês: 184\n",
      "Salário Bruto: 9200.0 \n",
      "INSS: 736.0 \n",
      "Sindicato: 460.0 \n",
      "Imposto de Renda: 1012.0 \n",
      "Salário Líquido: 6992.0 \n"
     ]
    }
   ],
   "source": [
    "salarioHora = float(input(\"Informe o seu salário por hora trabalhada: \"))\n",
    "horasMensais = float(input(\"Informe as horas trabalhadas no mês: \"))\n",
    "\n",
    "taxaInss = 0.08\n",
    "taxaIr = 0.11\n",
    "taxaSndicato = 0.05\n",
    "\n",
    "salarioBruto = (horasMensais * salarioHora)\n",
    "valorSindicato = salarioBruto * sindicato\n",
    "valorInss = salarioBruto * taxaInss\n",
    "valorIr = salarioBruto * taxaIr\n",
    "salarioLiquido = salarioBruto - (valorInss + valorIr + valorSindicato)\n",
    "\n",
    "print(\"Salário Bruto: %s \" %(salarioBruto))\n",
    "print(\"INSS: %s \" %(valorInss))\n",
    "print(\"Sindicato: %s \" %(valorSindicato))\n",
    "print(\"Imposto de Renda: %s \" %(valorIr))\n",
    "print(\"Salário Líquido: %s \" %(salarioLiquido))"
   ]
  },
  {
   "cell_type": "markdown",
   "metadata": {},
   "source": [
    "#### 9) Faça um programa que leia 2 strings e informe o conteúdo delas seguido do seu comprimento. Informe também se as duas strings possuem o mesmo comprimento e são iguais ou diferentes no conteúdo.\n",
    "Exemplo:\n",
    "String 1: Brasil Hexa 2018\n",
    "String 2: Brasil! Hexa 2018!\n",
    "Tamanho de \"Brasil Hexa 2018\": 16 caracteres\n",
    "Tamanho de \"Brasil! Hexa 2018!\": 18 caracteres\n",
    "As duas strings são de tamanhos diferentes.\n",
    "As duas strings possuem conteúdo diferente."
   ]
  },
  {
   "cell_type": "code",
   "execution_count": 52,
   "metadata": {},
   "outputs": [
    {
     "name": "stdout",
     "output_type": "stream",
     "text": [
      "String 1: ba\n",
      "String 2: ab\n",
      "Tamanho de \"ba\": 2 caraceteres\n",
      "Tamanho de \"ab\": 2 caraceteres\n",
      "As duas strings são do mesmo tamanho.\n",
      "As duas strings possuem conteúdos diferentes.\n"
     ]
    }
   ],
   "source": [
    "string1 = str(input(\"String 1: \"))\n",
    "string2 = str(input(\"String 2: \"))\n",
    "\n",
    "tamanhoString1 = int(len(string1))\n",
    "tamanhoString2 = int(len(string2))\n",
    "\n",
    "print(\"Tamanho de \\\"%s\\\": %s caraceteres\" %(string1, tamanhoString1))\n",
    "print(\"Tamanho de \\\"%s\\\": %s caraceteres\" %(string2, tamanhoString2))\n",
    "\n",
    "if tamanhoString1 == tamanhoString2:\n",
    "    print(\"As duas strings são do mesmo tamanho.\")\n",
    "    if string1 == string2:\n",
    "        print(\"As duas strings são iguais.\")\n",
    "    else:\n",
    "        print(\"As duas strings possuem conteúdos diferentes.\")\n",
    "else:\n",
    "    print(\"As duas strings são de tamanhos diferentes.\")"
   ]
  },
  {
   "cell_type": "markdown",
   "metadata": {},
   "source": [
    "#### 10) Faça um programa que permita ao usuário digitar o seu nome e em seguida mostre o nome do usuário de trás para frente utilizando somente letras maiúsculas. Dica: lembre−se que ao informar o nome o usuário pode digitar letras maiúsculas ou minúsculas.\n",
    "* Observação: não use loops."
   ]
  },
  {
   "cell_type": "code",
   "execution_count": 56,
   "metadata": {},
   "outputs": [
    {
     "name": "stdout",
     "output_type": "stream",
     "text": [
      "Informe seu nome (pode ser digitado com letras maiúsculas e/ou minúsculas): carLOs\n",
      "SOLRAC\n"
     ]
    }
   ],
   "source": [
    "nome = str(input(\"Informe seu nome (pode ser digitado com letras maiúsculas e/ou minúsculas): \"))\n",
    "\n",
    "print(nome[::-1].upper())"
   ]
  },
  {
   "cell_type": "markdown",
   "metadata": {},
   "source": [
    "#### 11) Faça um programa que solicite a data de nascimento (dd/mm/aaaa) do usuário e imprima a data com o nome do mês por extenso.\n",
    "Data de Nascimento: 29/10/1973\n",
    "Você nasceu em 29 de Outubro de 1973.\n",
    "* Obs.: Não use desvio condicional nem loops."
   ]
  },
  {
   "cell_type": "code",
   "execution_count": 70,
   "metadata": {},
   "outputs": [
    {
     "name": "stdout",
     "output_type": "stream",
     "text": [
      "Infome a data de nascimento (dd/mm/aaaa): 25/04/1994\n",
      "Você nasceu em 25 de Abril de 1994.\n"
     ]
    }
   ],
   "source": [
    "import locale\n",
    "from datetime import datetime\n",
    "locale.setlocale(locale.LC_TIME, 'pt_BR.UTF-8')\n",
    "\n",
    "dataNascimento = input('Infome a data de nascimento (dd/mm/aaaa): ')\n",
    "\n",
    "formataData = datetime.strptime(dataNascimento, '%d/%m/%Y')\n",
    "\n",
    "print(\"Você nasceu em %s.\" %(formataData.strftime('%d de %B de %Y')))"
   ]
  },
  {
   "cell_type": "markdown",
   "metadata": {},
   "source": [
    "#### 12) Leet é uma forma de se escrever o alfabeto latino usando outros símbolos em lugar das letras, como números por exemplo. A própria palavra leet admite muitas variações, como l33t ou 1337. O uso do leet reflete uma subcultura relacionada ao mundo dos jogos de computador e internet, sendo muito usada para confundir os iniciantes e afrmar-se como parte de um grupo. Pesquise sobre as principais formas de traduzir as letras. Depois, faça um programa que peça uma texto e transforme-o para a grafa leet speak.\n",
    "* Desafio: não use loops nem desvios condicionais."
   ]
  },
  {
   "cell_type": "code",
   "execution_count": 1,
   "metadata": {},
   "outputs": [
    {
     "name": "stdout",
     "output_type": "stream",
     "text": [
      "Digite algo para ser transformado para a Leet Speak: LEET leet Leet leeT speak hue hue\n",
      "LEET 1337 L337 133T 5p34k hu3 hu3\n"
     ]
    }
   ],
   "source": [
    "caracteres = \"letaos\"\n",
    "caracteresLeet = \"137405\"\n",
    "\n",
    "formataLeetSpeak = str.maketrans(caracteres, caracteresLeet)\n",
    "\n",
    "texto = input(\"Digite algo para ser transformado para a Leet Speak: \")\n",
    "\n",
    "print(texto.translate(formataLeetSpeak))"
   ]
  }
 ],
 "metadata": {
  "kernelspec": {
   "display_name": "Python 3",
   "language": "python",
   "name": "python3"
  },
  "language_info": {
   "codemirror_mode": {
    "name": "ipython",
    "version": 3
   },
   "file_extension": ".py",
   "mimetype": "text/x-python",
   "name": "python",
   "nbconvert_exporter": "python",
   "pygments_lexer": "ipython3",
   "version": "3.6.5"
  }
 },
 "nbformat": 4,
 "nbformat_minor": 2
}
