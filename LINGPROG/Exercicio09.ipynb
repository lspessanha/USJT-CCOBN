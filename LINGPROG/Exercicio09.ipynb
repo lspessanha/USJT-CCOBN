{
 "cells": [
  {
   "cell_type": "markdown",
   "metadata": {},
   "source": [
    "#### 1. Escreva uma função que recebe dois parâmetros e decide se o primeiro é divisível pelo segundo. Reescreva a função fazendo currying das duas formas vistas."
   ]
  },
  {
   "cell_type": "code",
   "execution_count": 1,
   "metadata": {},
   "outputs": [
    {
     "name": "stdout",
     "output_type": "stream",
     "text": [
      "True\n",
      "False\n"
     ]
    }
   ],
   "source": [
    "def funcao(param1, param2):\n",
    "    if (param1 % param2) == 0:\n",
    "        return True\n",
    "    return False\n",
    "\n",
    "print(funcao(4, 2))\n",
    "print(funcao(2, 4))"
   ]
  },
  {
   "cell_type": "code",
   "execution_count": 2,
   "metadata": {},
   "outputs": [
    {
     "name": "stdout",
     "output_type": "stream",
     "text": [
      "True\n",
      "False\n"
     ]
    }
   ],
   "source": [
    "from functools import partial\n",
    "from inspect import signature\n",
    "def curry (f):\n",
    "    def aux (x):\n",
    "        if len(signature(f).parameters) == 1:\n",
    "            return f(x)\n",
    "        return curry (partial(f, x))\n",
    "    return aux\n",
    "\n",
    "@curry\n",
    "def funcao(param1, param2):\n",
    "    if (param1 % param2) == 0:\n",
    "        return True\n",
    "    return False\n",
    "\n",
    "print(funcao(4)(2))\n",
    "print(funcao(2)(4))"
   ]
  },
  {
   "cell_type": "markdown",
   "metadata": {},
   "source": [
    "#### 2. Escreva uma função que calcula a média aritmética de 5 valores recebidos. Faça currying usando decorators."
   ]
  },
  {
   "cell_type": "code",
   "execution_count": 3,
   "metadata": {},
   "outputs": [
    {
     "name": "stdout",
     "output_type": "stream",
     "text": [
      "4.4\n"
     ]
    }
   ],
   "source": [
    "def media(a, b, c, d, e):\n",
    "    return (a + b + c + d + e)/5\n",
    "\n",
    "print(media(5,4,5,5,3))"
   ]
  },
  {
   "cell_type": "code",
   "execution_count": 4,
   "metadata": {},
   "outputs": [
    {
     "name": "stdout",
     "output_type": "stream",
     "text": [
      "4.4\n"
     ]
    }
   ],
   "source": [
    "from functools import partial\n",
    "from inspect import signature\n",
    "def curry (f):\n",
    "    def aux (x):\n",
    "        if len(signature(f).parameters) == 1:\n",
    "            return f(x)\n",
    "        return curry (partial(f, x))\n",
    "    return aux\n",
    "\n",
    "@curry\n",
    "def media(a, b, c, d, e):\n",
    "    return (a + b + c + d + e)/5\n",
    "\n",
    "print(media(5)(4)(5)(5)(3))"
   ]
  },
  {
   "cell_type": "markdown",
   "metadata": {},
   "source": [
    "#### 3. Escreva uma função que calcula a média ponderada de 5 valores recebidos (os pesos também chegam via parâmetro). Faça currying usando decorators."
   ]
  },
  {
   "cell_type": "code",
   "execution_count": 5,
   "metadata": {
    "scrolled": true
   },
   "outputs": [
    {
     "name": "stdout",
     "output_type": "stream",
     "text": [
      "3.6666666666666665\n"
     ]
    }
   ],
   "source": [
    "def media_ponderada(a1, p1, a2, p2, a3, p3, a4, p4, a5, p5):\n",
    "    return ((a1 * p1) + (a2 * p2) + (a3 * p3) + (a4 * p4) + (a5 * p5))/(p1 + p2 + p3 + p4 + p5)\n",
    "\n",
    "print(media_ponderada(1, 1, 2, 2, 3, 3, 4, 4, 5, 5))"
   ]
  },
  {
   "cell_type": "code",
   "execution_count": 6,
   "metadata": {},
   "outputs": [
    {
     "name": "stdout",
     "output_type": "stream",
     "text": [
      "3.6666666666666665\n"
     ]
    }
   ],
   "source": [
    "from functools import partial\n",
    "from inspect import signature\n",
    "def curry (f):\n",
    "    def aux (x):\n",
    "        if len(signature(f).parameters) == 1:\n",
    "            return f(x)\n",
    "        return curry (partial(f, x))\n",
    "    return aux\n",
    "\n",
    "@curry\n",
    "def media_ponderada(a1, p1, a2, p2, a3, p3, a4, p4, a5, p5):\n",
    "    return ((a1 * p1) + (a2 * p2) + (a3 * p3) + (a4 * p4) + (a5 * p5))/(p1 + p2 + p3 + p4 + p5)\n",
    "\n",
    "print(media_ponderada(1)(1)(2)(2)(3)(3)(4)(4)(5)(5))"
   ]
  },
  {
   "cell_type": "markdown",
   "metadata": {},
   "source": [
    "#### 4. Refaça o exercício de café da aula passada usando currying."
   ]
  },
  {
   "cell_type": "code",
   "execution_count": 7,
   "metadata": {},
   "outputs": [
    {
     "name": "stdout",
     "output_type": "stream",
     "text": [
      "<function caramelo.<locals>.decorator at 0x000001E855DBB598>\n"
     ]
    }
   ],
   "source": [
    "from functools import partial\n",
    "from inspect import signature\n",
    "def curry (f):\n",
    "    def aux (x):\n",
    "        if len(signature(f).parameters) == 1:\n",
    "            return f(x)\n",
    "        return curry (partial(f, x))\n",
    "    return aux\n",
    "\n",
    "def cafe():\n",
    "    return 5.0\n",
    "\n",
    "def palito_chocolate(f):\n",
    "    def decorator():\n",
    "        return f() + 0.5\n",
    "    return decorator\n",
    "\n",
    "def espuma_leite(f):\n",
    "    def decorator():\n",
    "        return f() + 0.2\n",
    "    return decorator \n",
    "\n",
    "@curry\n",
    "def caramelo(f):\n",
    "    def decorator():\n",
    "        return f() + 0.1\n",
    "    return decorator \n",
    "\n",
    "def canela(f):\n",
    "    def decorator():\n",
    "        return f() + 0.3\n",
    "    return decorator\n",
    "\n",
    "print(caramelo(cafe()))"
   ]
  },
  {
   "cell_type": "code",
   "execution_count": null,
   "metadata": {},
   "outputs": [],
   "source": []
  }
 ],
 "metadata": {
  "kernelspec": {
   "display_name": "Python 3",
   "language": "python",
   "name": "python3"
  },
  "language_info": {
   "codemirror_mode": {
    "name": "ipython",
    "version": 3
   },
   "file_extension": ".py",
   "mimetype": "text/x-python",
   "name": "python",
   "nbconvert_exporter": "python",
   "pygments_lexer": "ipython3",
   "version": "3.6.5"
  }
 },
 "nbformat": 4,
 "nbformat_minor": 2
}
