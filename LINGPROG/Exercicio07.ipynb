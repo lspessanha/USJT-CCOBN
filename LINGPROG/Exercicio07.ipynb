{
 "cells": [
  {
   "cell_type": "markdown",
   "metadata": {},
   "source": [
    "#### 1 Defina a função soma_nat que recebe como argumento um número natural n e devolve a soma de todos os números naturais até n.\n",
    "Ex: soma_nat(5) = 15"
   ]
  },
  {
   "cell_type": "code",
   "execution_count": 11,
   "metadata": {},
   "outputs": [
    {
     "name": "stdout",
     "output_type": "stream",
     "text": [
      "15\n"
     ]
    }
   ],
   "source": [
    "soma_nat = lambda n: 1 if n == 1 else n + soma_nat(n-1)\n",
    "\n",
    "print(soma_nat(5))"
   ]
  },
  {
   "cell_type": "markdown",
   "metadata": {},
   "source": [
    "#### 2 Defina a função div que recebe como argumentos dois números naturais m e n e devolve o resultado da divisão inteira de m por n. Neste exercício você não pode recorrer às operações aritmétcas de multplicação, divisão e resto da divisão inteira.\n",
    "Ex: div(7,2) = 3"
   ]
  },
  {
   "cell_type": "code",
   "execution_count": 10,
   "metadata": {},
   "outputs": [
    {
     "name": "stdout",
     "output_type": "stream",
     "text": [
      "3\n"
     ]
    }
   ],
   "source": [
    "div = lambda dividendo, divisor: 0 if dividendo < divisor else div(dividendo - divisor, divisor) + 1\n",
    "\n",
    "print(div(7,2))"
   ]
  },
  {
   "cell_type": "markdown",
   "metadata": {},
   "source": [
    "#### 3 Defina a função prim_alg que recebe como argumento um número natural e devolve o primeiro algarismo (o mais signifcatvo) na representação decimal de n.\n",
    "Ex: prim_alg(5649) = 5<br>\n",
    "Ex: prim_alg(7) = 7"
   ]
  },
  {
   "cell_type": "code",
   "execution_count": 8,
   "metadata": {},
   "outputs": [
    {
     "name": "stdout",
     "output_type": "stream",
     "text": [
      "5\n",
      "7\n"
     ]
    }
   ],
   "source": [
    "#prim_alg = lambda n\n",
    "prim_alg = lambda n: int(n) if n < 10 else prim_alg(n/10)\n",
    "\n",
    "print(prim_alg(5649))\n",
    "print(prim_alg(7))"
   ]
  },
  {
   "cell_type": "markdown",
   "metadata": {},
   "source": [
    "#### 4 Defina a função prod_lista que recebe como argumento uma lista de inteiros e devolve o produto dos seus elementos.\n",
    "Ex: prod_lista([1,2,3,4,5,6]) = 720"
   ]
  },
  {
   "cell_type": "code",
   "execution_count": 12,
   "metadata": {},
   "outputs": [
    {
     "name": "stdout",
     "output_type": "stream",
     "text": [
      "720\n"
     ]
    }
   ],
   "source": [
    "prod_lista = lambda lista: 1 if len(lista) == 0 else lista[len(lista) - 1] * prod_lista(lista[:-1])\n",
    "\n",
    "print(prod_lista([1,2,3,4,5,6]))"
   ]
  },
  {
   "cell_type": "markdown",
   "metadata": {},
   "source": [
    "#### 5 Defina a função contem_parQ que recebe como argumento uma lista de números inteiros o e devolve True se o contém um número par e False em caso contrário.\n",
    "Ex: contem_parQ([2,3,1,2,3,4]) = True<br>\n",
    "Ex: contem_parQ([1,3,5,7]) = False"
   ]
  },
  {
   "cell_type": "code",
   "execution_count": 13,
   "metadata": {},
   "outputs": [
    {
     "name": "stdout",
     "output_type": "stream",
     "text": [
      "True\n",
      "False\n"
     ]
    }
   ],
   "source": [
    "contem_parQ = lambda w: False if len(w) == 0 else False if w[len(w) - 1] % 2 != 0 and not contem_parQ(w[:-1]) else True\n",
    "\n",
    "print(contem_parQ([2,3,1,2,3,4]))\n",
    "print(contem_parQ([1,3,5,7]))"
   ]
  },
  {
   "cell_type": "markdown",
   "metadata": {},
   "source": [
    "#### 6 Defina a função todos_impares que recebe como argumento uma lista de números inteiros o e devolve True se o contém apenas números ímpares e False em caso contrário.\n",
    "Ex: todos_impares ([1,3,5,7]) = True<br>\n",
    "Ex: todos_impares ([]) = True<br>\n",
    "Ex: todos_impares ([1,2,3,4,5]) = False"
   ]
  },
  {
   "cell_type": "code",
   "execution_count": 14,
   "metadata": {},
   "outputs": [
    {
     "name": "stdout",
     "output_type": "stream",
     "text": [
      "True\n",
      "True\n",
      "False\n"
     ]
    }
   ],
   "source": [
    "todos_imparesQ = lambda w: True if len(w) == 0 else True if w[len(w) - 1] % 2 != 0 and todos_imparesQ(w[:-1]) else False\n",
    "\n",
    "print(todos_imparesQ([1,3,5,7]))\n",
    "print(todos_imparesQ([]))\n",
    "print(todos_imparesQ([1,2,3,4,5]))"
   ]
  },
  {
   "cell_type": "markdown",
   "metadata": {},
   "source": [
    "#### 7 Defina a função pertenceQ que recebe como argumentos uma lista de números inteiros o e um número inteiro n e devolve True se n ocorre em o e False em caso contrário.\n",
    "Ex: pertenceQ([1,2,3],1) = True<br>\n",
    "Ex: pertenceQ([1,2,3],2) = True<br>\n",
    "Ex: pertenceQ([1,2,3],3) = True<br>\n",
    "Ex: pertenceQ([1,2,3],4) = False"
   ]
  },
  {
   "cell_type": "code",
   "execution_count": 15,
   "metadata": {},
   "outputs": [
    {
     "name": "stdout",
     "output_type": "stream",
     "text": [
      "True\n",
      "True\n",
      "True\n",
      "False\n"
     ]
    }
   ],
   "source": [
    "pertenceQ = lambda w, n: True if n in w else False\n",
    "\n",
    "print(pertenceQ([1,2,3],1))\n",
    "print(pertenceQ([1,2,3],2))\n",
    "print(pertenceQ([1,2,3],3))\n",
    "print(pertenceQ([1,2,3],4))"
   ]
  },
  {
   "cell_type": "markdown",
   "metadata": {},
   "source": [
    "#### 8 Defina a função junta que recebe como argumentos duas listas de números inteiros w1 e w2 e devolve a concatenação de w1 com w2 .\n",
    "Ex: junta([1,2,3],[4,5,6]) = [1, 2, 3, 4, 5, 6]<br>\n",
    "Ex: junta([],[4,5,6]) = [4, 5, 6]<br>\n",
    "Ex: junta([1,2,3],[]) = [1, 2, 3]"
   ]
  },
  {
   "cell_type": "code",
   "execution_count": 16,
   "metadata": {},
   "outputs": [
    {
     "name": "stdout",
     "output_type": "stream",
     "text": [
      "[1, 2, 3, 4, 5, 6]\n",
      "[4, 5, 6]\n",
      "[1, 2, 3]\n"
     ]
    }
   ],
   "source": [
    "junta = lambda w1, w2: w1 + w2\n",
    "\n",
    "print(junta([1,2,3],[4,5,6]))\n",
    "print(junta([],[4,5,6]))\n",
    "print(junta([1,2,3],[]))"
   ]
  },
  {
   "cell_type": "markdown",
   "metadata": {},
   "source": [
    "#### 9 Defina a função temPrimoQ que recebe como argumento uma lista de listas de números inteiros o e devolve True se alguma das sublistas o tem um número primo e False em caso contrário.\n",
    "Ex: temPrimoQ([[4,4,4,4],[5,4,6,7],[2,4,3]]) = True<br>\n",
    "Ex: temPrimoQ([[4,4,4,4],[4,4,4],[],[4]]) = False"
   ]
  },
  {
   "cell_type": "code",
   "execution_count": 45,
   "metadata": {},
   "outputs": [
    {
     "name": "stdout",
     "output_type": "stream",
     "text": [
      "temPrimo [1] False\n",
      "temPrimo [2] True\n",
      "temPrimo [3] True\n",
      "temPrimo [4] False\n",
      "temPrimoQ [[1]] False\n",
      "temPrimoQ [[2]] True\n",
      "temPrimoQ [[3]] True\n",
      "temPrimoQ [[4]] False\n",
      "temPrimoQ [[4,4,4,4],[5,4,6,7],[2,4,3]] True\n",
      "temPrimoQ [[4,4,4,4],[4,4,4],[],[4]] False\n"
     ]
    }
   ],
   "source": [
    "ehPrimo = lambda p, i = 2: False if p == 1 else True if p == 2 or i >= p else False if (p % i) == 0 and p != i else ehPrimo(p, i + 1)\n",
    "temPrimo = lambda w: False if len(w) == 0 else ehPrimo(w[0]) if len(w) == 1 else ehPrimo(w[0]) or temPrimo(w[1:len(w)])\n",
    "temPrimoQ = lambda w: False if len(w) == 0 else temPrimo(w[0]) if len(w) == 1 else temPrimo(w[0]) or temPrimoQ(w[1:len(w)])\n",
    "\n",
    "print('temPrimo', '[1]', temPrimo([1]))\n",
    "print('temPrimo', '[2]', temPrimo([2]))\n",
    "print('temPrimo', '[3]', temPrimo([3]))\n",
    "print('temPrimo', '[4]', temPrimo([4]))\n",
    "print('temPrimoQ', '[[1]]', temPrimoQ([[1]]))\n",
    "print('temPrimoQ', '[[2]]', temPrimoQ([[2]]))\n",
    "print('temPrimoQ', '[[3]]', temPrimoQ([[3]]))\n",
    "print('temPrimoQ', '[[4]]', temPrimoQ([[4]]))\n",
    "print('temPrimoQ', '[[4,4,4,4],[5,4,6,7],[2,4,3]]', temPrimoQ([[4,4,4,4],[5,4,6,7],[2,4,3]]))\n",
    "print('temPrimoQ', '[[4,4,4,4],[4,4,4],[],[4]]', temPrimoQ([[4,4,4,4],[4,4,4],[],[4]]))"
   ]
  },
  {
   "cell_type": "markdown",
   "metadata": {},
   "source": [
    "#### 10 Defina a função inverteLista que recebe como argumento uma lista w e devolve a mesma lista mas invertda.\n",
    "Ex: inverteLista([1,2,3,4,5]) = [5, 4, 3, 2, 1]<br>\n",
    "Ex: inverteLista([])"
   ]
  },
  {
   "cell_type": "code",
   "execution_count": 18,
   "metadata": {},
   "outputs": [
    {
     "name": "stdout",
     "output_type": "stream",
     "text": [
      "[5, 4, 3, 2, 1]\n",
      "[]\n"
     ]
    }
   ],
   "source": [
    "inverteLista = lambda w: w[::-1]\n",
    "\n",
    "print(inverteLista([1,2,3,4,5]))\n",
    "print(inverteLista([]))"
   ]
  }
 ],
 "metadata": {
  "kernelspec": {
   "display_name": "Python 3",
   "language": "python",
   "name": "python3"
  },
  "language_info": {
   "codemirror_mode": {
    "name": "ipython",
    "version": 3
   },
   "file_extension": ".py",
   "mimetype": "text/x-python",
   "name": "python",
   "nbconvert_exporter": "python",
   "pygments_lexer": "ipython3",
   "version": "3.6.5"
  }
 },
 "nbformat": 4,
 "nbformat_minor": 2
}
