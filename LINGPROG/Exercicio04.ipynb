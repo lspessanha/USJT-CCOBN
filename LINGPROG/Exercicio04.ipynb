{
 "cells": [
  {
   "cell_type": "markdown",
   "metadata": {},
   "source": [
    "#### 1) Menor de dois pares: Escreva uma função que retorne o menor de dois números dados se ambos os números forem pares, mas retorna o maior se um dos dois for ímpar. Exemplo:\n",
    "menor_de_dois_pares(2,4) --> 2<br>\n",
    "menor_de_dois_pares (2,5) --> 5"
   ]
  },
  {
   "cell_type": "code",
   "execution_count": 20,
   "metadata": {},
   "outputs": [
    {
     "name": "stdout",
     "output_type": "stream",
     "text": [
      "2\n",
      "2\n",
      "5\n",
      "5\n"
     ]
    }
   ],
   "source": [
    "def compara_pares(a, b):\n",
    "    if a % 2 == 0 and b % 2 == 0:\n",
    "        return a if a < b else b\n",
    "    else:\n",
    "        return a if a % 2 != 0 else b\n",
    "\n",
    "print(compara_pares(2,4))\n",
    "print(compara_pares(4,2))\n",
    "print(compara_pares(2,5))\n",
    "print(compara_pares(5,2))"
   ]
  },
  {
   "cell_type": "markdown",
   "metadata": {},
   "source": [
    "#### 2) Mesma letra: Escreva uma função que receba uma string com duas palavras e retorne True se ambas palavras começarem com a mesma letra. Exemplo:\n",
    "mesma_letra('Cão covarde') -> True<br>\n",
    "mesma_letra('Vira Lata') -> False"
   ]
  },
  {
   "cell_type": "code",
   "execution_count": 11,
   "metadata": {},
   "outputs": [
    {
     "name": "stdout",
     "output_type": "stream",
     "text": [
      "True\n",
      "False\n",
      "True\n",
      "False\n"
     ]
    }
   ],
   "source": [
    "def comecam_com_a_mesma_letra(palavra):\n",
    "    partes = palavra.split(\" \")\n",
    "    if partes[0][0].upper() == partes[1][0].upper():\n",
    "        return True\n",
    "    return False\n",
    "\n",
    "print(comecam_com_a_mesma_letra(\"Cão covarde\"))\n",
    "print(comecam_com_a_mesma_letra(\"Vira Lata\"))\n",
    "\n",
    "def comecam_com_a_mesma_letra2(palavra):\n",
    "    partes = palavra.split(\" \")\n",
    "    return True if partes[0][0].upper() == partes[1][0].upper() else False\n",
    "\n",
    "print(comecam_com_a_mesma_letra2(\"Cão covarde\"))\n",
    "print(comecam_com_a_mesma_letra2(\"Vira Lata\"))"
   ]
  },
  {
   "cell_type": "markdown",
   "metadata": {},
   "source": [
    "#### 3) Mestre Yoda: Dada uma sentença, a função deve retornar a sentença com as palavras na ordem reversa. Exemplo:\n",
    "mestre_yoda('Eu estou em casa') --> 'casa em estou Eu'<br>\n",
    "mestre_yoda('Estamos prontos') --> 'prontos Estamos'"
   ]
  },
  {
   "cell_type": "code",
   "execution_count": 31,
   "metadata": {},
   "outputs": [
    {
     "name": "stdout",
     "output_type": "stream",
     "text": [
      "estou em casa Eu\n",
      "prontos Estamos\n"
     ]
    }
   ],
   "source": [
    "def mestre_yoda(sentenca):\n",
    "    return \" \".join(sorted(sentenca.split(\" \"), reverse=True))\n",
    "\n",
    "print(mestre_yoda('Eu estou em casa'))\n",
    "print(mestre_yoda('Estamos prontos'))"
   ]
  },
  {
   "cell_type": "markdown",
   "metadata": {},
   "source": [
    "#### 4) Tem 33: Faça uma função que retorne True se, dada uma lista de inteiros, houver em alguma posição da lista um 3 do lado de outro 3. Exemplo:\n",
    "tem_33([1,3,3]) --> True<br>\n",
    "tem_33([1,3,1,3]) --> False<br>\n",
    "tem_33([3,1,3]) --> False"
   ]
  },
  {
   "cell_type": "code",
   "execution_count": 27,
   "metadata": {},
   "outputs": [
    {
     "name": "stdout",
     "output_type": "stream",
     "text": [
      "True\n",
      "False\n",
      "False\n"
     ]
    }
   ],
   "source": [
    "def tem_33(lista):\n",
    "    status = \"Nada\"\n",
    "    for simbolo in lista:\n",
    "        if simbolo == 3:\n",
    "            if status == \"Nada\":\n",
    "                status = \"Tres\"\n",
    "            elif status == \"Tres\":\n",
    "                return True\n",
    "        else:\n",
    "            if status == \"Tres\":\n",
    "                status = \"Nada\"\n",
    "    return False\n",
    "\n",
    "print(tem_33([1,3,3]))\n",
    "print(tem_33([1,3,1,3]))\n",
    "print(tem_33([3,1,3]))"
   ]
  },
  {
   "cell_type": "markdown",
   "metadata": {},
   "source": [
    "#### 5) Blackjack: Faça uma função que receba 3 inteiros entre 1 e 11. Se a soma deles for menor que 21, retorne o valor da soma. Se for maior do que 21 e houver um 11, subtraia 10 da soma antes de apresentar o resultado. Se o valor da soma passar de 21, retorne ‘ESTOUROU’. Exemplo:\n",
    "blackjack(5,6,7) --> 18<br>\n",
    "blackjack(9,9,9) --> 'ESTOUROU'<br>\n",
    "blackjack(9,9,11) --> 19"
   ]
  },
  {
   "cell_type": "code",
   "execution_count": 14,
   "metadata": {},
   "outputs": [
    {
     "name": "stdout",
     "output_type": "stream",
     "text": [
      "18\n",
      "('ESTOUROU', 27)\n",
      "19\n"
     ]
    }
   ],
   "source": [
    "def blackjack(a, b, c):\n",
    "    soma = a + b + c\n",
    "    if soma <= 21:\n",
    "        return soma\n",
    "    else:\n",
    "        if 11 in [a, b, c]:\n",
    "            return soma - 10\n",
    "        return (\"ESTOUROU\", soma)\n",
    "    \n",
    "print(blackjack(5,6,7))\n",
    "print(blackjack(9,9,9))\n",
    "print(blackjack(9,9,11))"
   ]
  },
  {
   "cell_type": "markdown",
   "metadata": {},
   "source": [
    "#### 6) Espião: Escreva uma função que receba uma lista de inteiros e retorne True se contém um 007 em ordem, mesmo que não contínuo. Exemplo:\n",
    "espiao([1,2,4,0,0,7,5]) --> True<br>\n",
    "espiao([1,0,2,4,0,5,7]) --> True<br>\n",
    "espiao([1,7,2,4,0,5,0]) --> False"
   ]
  },
  {
   "cell_type": "code",
   "execution_count": 33,
   "metadata": {},
   "outputs": [
    {
     "name": "stdout",
     "output_type": "stream",
     "text": [
      "False\n",
      "False\n",
      "False\n"
     ]
    }
   ],
   "source": [
    "def espiao(lista):\n",
    "    status = \"Nada\"\n",
    "    for simbolo in lista:\n",
    "        if simbolo == 0:\n",
    "            if status == \"Nada\":\n",
    "                status = \"Zero\"\n",
    "            elif status == \"Zero\":\n",
    "                if simbolo == 0:\n",
    "                    status == \"ZeroZero\"\n",
    "        elif simbolo == 7:\n",
    "            if status == \"ZeroZero\":\n",
    "                return True\n",
    "        return False\n",
    "        \n",
    "        \n",
    "print(espiao([1,2,4,0,0,7,5]))\n",
    "print(espiao([1,0,2,4,0,5,7]))\n",
    "print(espiao([1,7,2,4,0,5,0]))"
   ]
  },
  {
   "cell_type": "code",
   "execution_count": null,
   "metadata": {},
   "outputs": [],
   "source": []
  }
 ],
 "metadata": {
  "kernelspec": {
   "display_name": "Python 3",
   "language": "python",
   "name": "python3"
  },
  "language_info": {
   "codemirror_mode": {
    "name": "ipython",
    "version": 3
   },
   "file_extension": ".py",
   "mimetype": "text/x-python",
   "name": "python",
   "nbconvert_exporter": "python",
   "pygments_lexer": "ipython3",
   "version": "3.6.5"
  }
 },
 "nbformat": 4,
 "nbformat_minor": 2
}
