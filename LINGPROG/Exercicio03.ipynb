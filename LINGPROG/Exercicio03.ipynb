{
 "cells": [
  {
   "cell_type": "markdown",
   "metadata": {},
   "source": [
    "## Desvio Condicional\n",
    "#### 1. Faça um Programa que peça dois números e imprima o maior deles."
   ]
  },
  {
   "cell_type": "code",
   "execution_count": 10,
   "metadata": {},
   "outputs": [
    {
     "name": "stdout",
     "output_type": "stream",
     "text": [
      "A: Digite um número: 10\n",
      "B: Digite outro número: 11\n",
      "O número B: 11 é maior que A: 10\n"
     ]
    }
   ],
   "source": [
    "numero_a = int(input(\"A: Digite um número: \"))\n",
    "numero_b = int(input(\"B: Digite outro número: \"))\n",
    "\n",
    "if numero_a > numero_b:\n",
    "    print(\"O número A: %s é maior que B: %s\" %(numero_a, numero_b))\n",
    "else:\n",
    "    print(\"O número B: %s é maior que A: %s\" %(numero_b, numero_a))"
   ]
  },
  {
   "cell_type": "markdown",
   "metadata": {},
   "source": [
    "#### 2. Faça um Programa que verifique se uma letra digitada é vogal ou consoante."
   ]
  },
  {
   "cell_type": "code",
   "execution_count": 11,
   "metadata": {},
   "outputs": [
    {
     "name": "stdout",
     "output_type": "stream",
     "text": [
      "Digite uma letra: c\n",
      "A letra 'c' é uma consoante.\n"
     ]
    }
   ],
   "source": [
    "letra = str(input(\"Digite uma letra: \"))\n",
    "\n",
    "if (letra == 'a' or letra == 'e' or letra == 'i' or letra == 'o' or letra == 'u'):\n",
    "    print(\"A letra '%s' é uma vogal.\" %(letra))\n",
    "else:\n",
    "    print(\"A letra '%s' é uma consoante.\" %(letra))"
   ]
  },
  {
   "cell_type": "markdown",
   "metadata": {},
   "source": [
    "#### 3. Faça um programa para a leitura de duas notas parciais de um aluno. O programa deve calcular a média alcançada por aluno e apresentar:\n",
    "- A mensagem \"Aprovado\", se a média alcançada for maior ou igual a sete;\n",
    "- A mensagem \"Reprovado\", se a média for menor do que sete;\n",
    "- A mensagem \"Aprovado com Distinção\", se a média for igual a dez."
   ]
  },
  {
   "cell_type": "code",
   "execution_count": 14,
   "metadata": {},
   "outputs": [
    {
     "name": "stdout",
     "output_type": "stream",
     "text": [
      "Digite a primeira nota do aluno: 7\n",
      "Digite a segunda nota do aluno: 6\n",
      "Aluno Reprovado, a média da nota é de: 6.5\n"
     ]
    }
   ],
   "source": [
    "nota_1 = int(input(\"Digite a primeira nota do aluno: \"))\n",
    "nota_2 = int(input(\"Digite a segunda nota do aluno: \"))\n",
    "\n",
    "media = (nota_1+nota_2)/2\n",
    "\n",
    "if media == 10:\n",
    "    print(\"Aluno Aprovado com Distinção, a média da nota é de: %s\" %(media))\n",
    "elif media >= 7:\n",
    "    print(\"Aluno Aprovado, a média da nota é de: %s\" %(media))\n",
    "else:\n",
    "    print(\"Aluno Reprovado, a média da nota é de: %s\" %(media))"
   ]
  },
  {
   "cell_type": "markdown",
   "metadata": {},
   "source": [
    "#### 4. Faça um Programa que leia três números e mostre-os em ordem decrescente."
   ]
  },
  {
   "cell_type": "code",
   "execution_count": 44,
   "metadata": {},
   "outputs": [
    {
     "name": "stdout",
     "output_type": "stream",
     "text": [
      "Digite o primeiro número: 3\n",
      "Digite o segundo número: 2\n",
      "Digite o terceiro número: 1\n",
      "3 - 2 - 1\n"
     ]
    }
   ],
   "source": [
    "numero_1 = int(input(\"Digite o primeiro número: \"))\n",
    "numero_2 = int(input(\"Digite o segundo número: \"))\n",
    "numero_3 = int(input(\"Digite o terceiro número: \"))\n",
    "\n",
    "if numero_2 > numero_1 and numero_1 > numero_3:\n",
    "    print(\"%s - %s - %s\" %(numero_2, numero_1, numero_3))\n",
    "elif numero_2 > numero_1 and numero_3 > numero_2:\n",
    "    print(\"%s - %s - %s\" %(numero_3, numero_2, numero_1))\n",
    "elif numero_2 > numero_3 and numero_3 > numero_1:\n",
    "    print(\"%s - %s - %s\" %(numero_2, numero_3, numero_1))\n",
    "elif numero_1 > numero_2 and numero_3 > numero_1:\n",
    "    print(\"%s - %s - %s\" %(numero_3, numero_1, numero_2))\n",
    "elif numero_1 > numero_2 and numero_3 > numero_2:\n",
    "    print(\"%s - %s - %s\" %(numero_1, numero_3, numero_2))\n",
    "else:\n",
    "    print(\"%s - %s - %s\" %(numero_1, numero_2, numero_3))"
   ]
  },
  {
   "cell_type": "markdown",
   "metadata": {},
   "source": [
    "#### 5. As Organizações Tabajara resolveram dar um aumento de salário aos seus colaboradores e lhe contrataram para desenvolver o programa que calculará os reajustes.\n",
    "Faça um programa que recebe o salário de um colaborador e o reajuste segundo o seguinte critério, baseado no salário atual:<br>\n",
    "- salários até R$ 280,00 (incluindo) : aumento de 20%<br>\n",
    "- salários entre R$ 280,00 e R$ 700,00 : aumento de 15%<br>\n",
    "- salários entre R$ 700,00 e R$ 1500,00 : aumento de 10%<br>\n",
    "- salários de R$ 1500,00 em diante : aumento de 5%<br>\n",
    "Após o aumento ser realizado, informe na tela:<br>\n",
    "- o salário antes do reajuste;<br>\n",
    "- o percentual de aumento aplicado;<br>\n",
    "- o valor do aumento;<br>\n",
    "- o novo salário, após o aumento."
   ]
  },
  {
   "cell_type": "code",
   "execution_count": 49,
   "metadata": {},
   "outputs": [
    {
     "name": "stdout",
     "output_type": "stream",
     "text": [
      "Informe o salário do colaborador: 1501\n",
      "O salário antes do reajuste: 1501 \n",
      "O percentual de aumento aplicado foi de 5%\n",
      "O valor do aumento: 75.05\n",
      "O novo salário, após o aumento: 1576.05\n"
     ]
    }
   ],
   "source": [
    "salario = int(input(\"Informe o salário do colaborador: \"))\n",
    "\n",
    "valor_aumento = 0\n",
    "novo_salario = 0\n",
    "\n",
    "def calculaSalario(salario, porcentagem):\n",
    "    valor_aumento = salario * (porcentagem/100)\n",
    "    novo_salario = salario + valor_aumento\n",
    "    return {'valor_aumento':valor_aumento, 'novo_salario':novo_salario}\n",
    "\n",
    "if salario <= 280:\n",
    "    calculado = calculaSalario(salario, 20)\n",
    "    print(\"O salário antes do reajuste: %s \" %(salario))\n",
    "    print(\"O percentual de aumento aplicado foi de 20%\")\n",
    "    print(\"O valor do aumento: %s\" %(calculado['valor_aumento']))\n",
    "    print(\"O novo salário, após o aumento: %s\" %(calculado['novo_salario']))\n",
    "elif salario <= 700:\n",
    "    calculado = calculaSalario(salario, 15)\n",
    "    print(\"O salário antes do reajuste: %s \" %(salario))\n",
    "    print(\"O percentual de aumento aplicado foi de 15%\")\n",
    "    print(\"O valor do aumento: %s\" %(calculado['valor_aumento']))\n",
    "    print(\"O novo salário, após o aumento: %s\" %(calculado['novo_salario']))\n",
    "elif salario <= 1500:\n",
    "    calculado = calculaSalario(salario, 10)\n",
    "    print(\"O salário antes do reajuste: %s \" %(salario))\n",
    "    print(\"O percentual de aumento aplicado foi de 10%\")\n",
    "    print(\"O valor do aumento: %s\" %(calculado['valor_aumento']))\n",
    "    print(\"O novo salário, após o aumento: %s\" %(calculado['novo_salario']))\n",
    "else:\n",
    "    calculado = calculaSalario(salario, 5)\n",
    "    print(\"O salário antes do reajuste: %s \" %(salario))\n",
    "    print(\"O percentual de aumento aplicado foi de 5%\")\n",
    "    print(\"O valor do aumento: %s\" %(calculado['valor_aumento']))\n",
    "    print(\"O novo salário, após o aumento: %s\" %(calculado['novo_salario']))"
   ]
  },
  {
   "cell_type": "markdown",
   "metadata": {},
   "source": [
    "#### 6. Faça um Programa que leia um número e exiba o dia correspondente da semana. (1-Domingo, 2- Segunda, etc.), se digitar outro valor deve aparecer valor inválido."
   ]
  },
  {
   "cell_type": "code",
   "execution_count": 57,
   "metadata": {},
   "outputs": [
    {
     "name": "stdout",
     "output_type": "stream",
     "text": [
      "Digite o número da semana desejada (1 a 7): 8\n",
      "Número digitado: 8 - Valor inválido!\n"
     ]
    }
   ],
   "source": [
    "numero_semana = int(input(\"Digite o número da semana desejada (1 a 7): \"))\n",
    "\n",
    "if numero_semana  == 1:\n",
    "    print(\"Número digitado: %s - Domingo\" %(numero_semana))\n",
    "elif numero_semana  == 2:\n",
    "    print(\"Número digitado: %s - Segunda\" %(numero_semana))\n",
    "elif numero_semana == 3:\n",
    "    print(\"Número digitado: %s - Terça\" %(numero_semana))\n",
    "elif numero_semana == 4:\n",
    "    print(\"Número digitado: %s - Quarta\" %(numero_semana))\n",
    "elif numero_semana == 5:\n",
    "    print(\"Número digitado: %s - Quinta\" %(numero_semana))\n",
    "elif numero_semana == 6:\n",
    "    print(\"Número digitado: %s - Sexta\" %(numero_semana))\n",
    "elif numero_semana == 7:\n",
    "    print(\"Número digitado: %s - Sábado\" %(numero_semana))\n",
    "else:\n",
    "    print(\"Número digitado: %s - Valor inválido!\" %(numero_semana))"
   ]
  },
  {
   "cell_type": "markdown",
   "metadata": {},
   "source": [
    "#### 7. Faça um programa que lê as duas notas parciais obtidas por um aluno numa disciplina ao longo de um semestre, e calcule a sua média. A atribuição de conceitos obedece à tabela abaixo:\n",
    "Média de Aproveitamento Conceito<br>\n",
    "Entre 9.0 e 10.0 A<br>\n",
    "Entre 7.5 e 9.0 B<br>\n",
    "Entre 6.0 e 7.5 C<br>\n",
    "Entre 4.0 e 6.0 D<br>\n",
    "Entre 4.0 e zero E<br>\n",
    "O algoritmo deve mostrar na tela as notas, a média, o conceito correspondente e a mensagem “APROVADO” se o conceito for A, B ou C ou “REPROVADO” se o conceito for D ou E."
   ]
  },
  {
   "cell_type": "code",
   "execution_count": 75,
   "metadata": {},
   "outputs": [
    {
     "name": "stdout",
     "output_type": "stream",
     "text": [
      "Digite a primeira nota do aluno: 3.9\n",
      "Digite a segunda nota do aluno:  3.9\n",
      "Média do aluno é de: 3.9 - Conceito: E - REPROVADO\n"
     ]
    }
   ],
   "source": [
    "nota_1 = float(input(\"Digite a primeira nota do aluno: \"))\n",
    "nota_2 = float(input(\"Digite a segunda nota do aluno:  \"))\n",
    "\n",
    "media = (nota_1+nota_2)/2\n",
    "\n",
    "if nota_1 > 10 or nota_2 > 10 or nota_1 < 0 or nota_2 < 0:\n",
    "    print(\"Por favor digite somente notas de 0 a 10\")\n",
    "elif media >= 9:\n",
    "    print(\"Média do aluno é de: %s - Conceito: A - APROVADO\" %(media))\n",
    "elif media >= 7.5:\n",
    "    print(\"Média do aluno é de: %s - Conceito: B - APROVADO\" %(media))\n",
    "elif media >= 6:\n",
    "    print(\"Média do aluno é de: %s - Conceito: C - APROVADO\" %(media))\n",
    "elif media >= 4:\n",
    "    print(\"Média do aluno é de: %s - Conceito: D - REPROVADO\" %(media))\n",
    "else:\n",
    "    print(\"Média do aluno é de: %s - Conceito: E - REPROVADO\" %(media))"
   ]
  },
  {
   "cell_type": "markdown",
   "metadata": {},
   "source": [
    "#### 8. Faça um Programa que peça os 3 lados de um triângulo. O programa deverá informar se os valores podem ser um triângulo.\n",
    "Indique, caso os lados formem um triângulo, se o mesmo é:<br>\n",
    "equilátero, isósceles ou escaleno.<br>\n",
    "Dicas:<br>\n",
    "- Três lados formam um triângulo quando a soma de quaisquer dois lados for maior que o terceiro;<br>\n",
    "- Triângulo Equilátero: três lados iguais;<br>\n",
    "- Triângulo Isósceles: quaisquer dois lados iguais;<br>\n",
    "- Triângulo Escaleno: três lados diferentes;"
   ]
  },
  {
   "cell_type": "code",
   "execution_count": null,
   "metadata": {},
   "outputs": [],
   "source": []
  },
  {
   "cell_type": "markdown",
   "metadata": {},
   "source": [
    "#### 9. Faça um programa que calcule as raízes de uma equação do segundo grau, na forma ax2 + bx + c. O programa deverá pedir os valores de a, b e c e fazer as consistências, informando ao usuário nas seguintes situações:\n",
    "- Se o usuário informar o valor de A igual a zero, a equação não é do segundo grau e o programa não deve fazer pedir os demais valores, sendo encerrado;<br>\n",
    "- Se o delta calculado for negativo, a equação não possui raizes reais. Informe ao usuário e encerre o programa;<br>\n",
    "- Se o delta calculado for igual a zero a equação possui apenas uma raiz real; informe-a ao usuário;<br>\n",
    "- Se o delta for positivo, a equação possui duas raiz reais; informe as ao usuário;"
   ]
  },
  {
   "cell_type": "code",
   "execution_count": null,
   "metadata": {},
   "outputs": [],
   "source": []
  },
  {
   "cell_type": "markdown",
   "metadata": {},
   "source": [
    "#### 10. Faça um Programa para um caixa eletrônico. O programa deverá perguntar ao usuário a valor do saque e depois informar quantas notas de cada valor serão fornecidas. As notas disponíveis serão as de 1, 5, 10, 50 e 100 reais. O valor mínimo é de 10 reais e o máximo de 600 reais. O programa não deve se preocupar com a quantidade de notas existentes na máquina.\n",
    "- Exemplo 1: Para sacar a quantia de 256 reais, o programa fornece duas notas de 100, uma nota de 50, uma nota de 5 e uma nota de 1;<br>\n",
    "- Exemplo 2: Para sacar a quantia de 399 reais, o programa fornece três notas de 100, uma nota de 50, quatro notas de 10, uma nota de 5 e quatro notas de 1."
   ]
  },
  {
   "cell_type": "code",
   "execution_count": null,
   "metadata": {},
   "outputs": [],
   "source": []
  },
  {
   "cell_type": "markdown",
   "metadata": {},
   "source": [
    "#### 11. Faça um programa que faça 5 perguntas para uma pessoa sobre um crime. As perguntas são:\n",
    "\"Telefonou para a vítima?\"<br>\n",
    "\"Esteve no local do crime?\"<br>\n",
    "\"Mora perto da vítima?\"<br>\n",
    "\"Devia para a vítima?\"<br>\n",
    "\"Já trabalhou com a vítima?\"<br>\n",
    "O programa deve no final emitir uma classificação sobre a participação da pessoa no crime. Se a pessoa responder positivamente a 2 questões ela deve ser classificada como \"Suspeita\", entre 3 e 4 como \"Cúmplice\" e 5 como \"Assassino\". Caso contrário, ele será classificado como \"Inocente\"."
   ]
  },
  {
   "cell_type": "code",
   "execution_count": null,
   "metadata": {},
   "outputs": [],
   "source": []
  },
  {
   "cell_type": "markdown",
   "metadata": {},
   "source": [
    "#### 12. Uma fruteira está vendendo frutas com a seguinte tabela de preços:\n",
    "Até 5 Kg Acima de 5 Kg<br>\n",
    "Morango R$ 2,50 por Kg R$ 2,20 por Kg<br>\n",
    "Maçã R$ 1,80 por Kg R$ 1,50 por Kg<br>\n",
    "Se o cliente comprar mais de 8 Kg em frutas ou o valor total da compra ultrapassar R$ 25,00, receberá ainda um desconto de 10% sobre este total. Escreva um algoritmo para ler a quantidade (em Kg) de morangos e a quantidade (em Kg) de maças adquiridas e escreva o valor a ser pago pelo cliente."
   ]
  },
  {
   "cell_type": "code",
   "execution_count": null,
   "metadata": {},
   "outputs": [],
   "source": []
  },
  {
   "cell_type": "markdown",
   "metadata": {},
   "source": [
    "## Loops\n",
    "#### 13.1. Faça um programa que peça uma nota, entre zero e dez. Mostre uma mensagem caso o valor seja inválido e continue pedindo até que o usuário informe um valor válido."
   ]
  },
  {
   "cell_type": "code",
   "execution_count": null,
   "metadata": {},
   "outputs": [],
   "source": []
  },
  {
   "cell_type": "markdown",
   "metadata": {},
   "source": [
    "#### 13.2. Faça um programa que leia e valide as seguintes informações:\n",
    "Nome: maior que 3 caracteres;<br>\n",
    "Idade: entre 0 e 150;<br>\n",
    "Salário: maior que zero;<br>\n",
    "Sexo: 'f' ou 'm';<br>\n",
    "Estado Civil: 's', 'c', 'v', 'd';"
   ]
  },
  {
   "cell_type": "code",
   "execution_count": null,
   "metadata": {},
   "outputs": [],
   "source": []
  },
  {
   "cell_type": "markdown",
   "metadata": {},
   "source": [
    "#### 14. Faça um programa que leia 5 números e informe o maior número."
   ]
  },
  {
   "cell_type": "code",
   "execution_count": null,
   "metadata": {},
   "outputs": [],
   "source": []
  },
  {
   "cell_type": "markdown",
   "metadata": {},
   "source": [
    "#### 15. Faça um programa que leia 5 números e informe a soma e a média dos números."
   ]
  },
  {
   "cell_type": "code",
   "execution_count": null,
   "metadata": {},
   "outputs": [],
   "source": []
  },
  {
   "cell_type": "markdown",
   "metadata": {},
   "source": [
    "#### 16. Faça um programa que imprima na tela apenas os números ímpares entre 1 e 50."
   ]
  },
  {
   "cell_type": "code",
   "execution_count": null,
   "metadata": {},
   "outputs": [],
   "source": []
  },
  {
   "cell_type": "markdown",
   "metadata": {},
   "source": [
    "#### 17. Desenvolva um gerador de tabuada, capaz de gerar a tabuada de qualquer número inteiro entre 1 a 10. O usuário deve informar de qual numero ele deseja ver a tabuada. A saída deve ser conforme o exemplo abaixo:\n",
    "Tabuada de 5:<br>\n",
    "5 X 1 = 5<br>\n",
    "5 X 2 = 10<br>\n",
    "...<br>\n",
    "5 X 10 = 50"
   ]
  },
  {
   "cell_type": "code",
   "execution_count": null,
   "metadata": {},
   "outputs": [],
   "source": []
  },
  {
   "cell_type": "markdown",
   "metadata": {},
   "source": [
    "#### 18. A série de Fibonacci é formada pela sequência 1,1,2,3,5,8,13,21,34,55,... Faça um programa capaz de gerar a série até o n−ésimo termo."
   ]
  },
  {
   "cell_type": "code",
   "execution_count": null,
   "metadata": {},
   "outputs": [],
   "source": []
  },
  {
   "cell_type": "markdown",
   "metadata": {},
   "source": [
    "#### 19. Faça um programa que calcule o fatorial de um número inteiro fornecido pelo usuário. Ex.: 5!=5.4.3.2.1=120"
   ]
  },
  {
   "cell_type": "code",
   "execution_count": null,
   "metadata": {},
   "outputs": [],
   "source": []
  },
  {
   "cell_type": "markdown",
   "metadata": {},
   "source": [
    "#### 20. O Sr. Manoel Joaquim possui uma grande loja de artigos de R$ 1,99, com cerca de 10 caixas. Para agilizar o cálculo de quanto cada cliente deve pagar ele desenvolveu um tabela que contém o número de itens que o cliente comprou e ao lado o valor da conta.<br>\n",
    "Desta forma a atendente do caixa precisa apenas contar quantos itens o cliente está levando e olhar na tabela de preços. Você foi contratado para desenvolver o programa que monta esta tabela de preços, que conterá os preços de 1 até 50 produtos, conforme o exemplo abaixo:<br>\n",
    "Lojas Quase Dois - Tabela de preços<br>\n",
    "1 - R$ 1.99<br>\n",
    "2 - R$ 3.98<br>\n",
    "...<br>\n",
    "50 - R$ 99.50"
   ]
  },
  {
   "cell_type": "code",
   "execution_count": null,
   "metadata": {},
   "outputs": [],
   "source": []
  },
  {
   "cell_type": "markdown",
   "metadata": {},
   "source": [
    "#### 21. O Sr. Manoel Joaquim acaba de adquirir uma panificadora e pretende implantar a metodologia da tabelinha, que já é um sucesso na sua loja de 1,99. Você foi contratado para desenvolver o programa que monta a tabela de preços de pães, de 1 até 50 pães, a partir do preço do pão informado pelo usuário, conforme o exemplo abaixo:<br>\n",
    "Preço do pão: R$ 0.18<br>\n",
    "Panificadora Pão de Ontem - Tabela de preços<br>\n",
    "1 - R$ 0.18<br>\n",
    "2 - R$ 0.36<br>\n",
    "...<br>\n",
    "50 - R$ 9.00"
   ]
  },
  {
   "cell_type": "code",
   "execution_count": null,
   "metadata": {},
   "outputs": [],
   "source": []
  },
  {
   "cell_type": "markdown",
   "metadata": {},
   "source": [
    "#### 22. O Sr. Manoel Joaquim expandiu seus negócios para além dos negócios de 1,99 e agora possui uma loja de conveniências. Faça um programa que implemente uma caixa registradora rudimentar. O programa deverá receber um número desconhecido de valores referentes aos preços das mercadorias. Um valor zero deve ser informado pelo operador para indicar o final da compra. O programa deve então mostrar o total da compra e perguntar o valor em dinheiro que o cliente forneceu, para então calcular e mostrar o valor do troco. Após esta operação, o programa deverá voltar ao ponto inicial, para registrar a próxima compra.<br>\n",
    "A saída deve ser conforme o exemplo abaixo:<br>\n",
    "Lojas Tabajara<br>\n",
    "Produto 1: R$ 2.20<br>\n",
    "Produto 2: R$ 5.80<br>\n",
    "Produto 3: R$ 0<br>\n",
    "Total: R$ 9.00<br>\n",
    "Dinheiro: R$ 20.00<br>\n",
    "Troco: R$ 11.00<br>\n",
    "..."
   ]
  },
  {
   "cell_type": "code",
   "execution_count": null,
   "metadata": {},
   "outputs": [],
   "source": []
  },
  {
   "cell_type": "markdown",
   "metadata": {},
   "source": [
    "#### 23. Foi feita uma estatística em cinco cidades brasileiras para coletar dados sobre acidentes de trânsito. Foram obtidos os seguintes dados:<br>\n",
    "- Código da cidade;<br>\n",
    "- Número de veículos de passeio (em 1999);<br>\n",
    "- Número de acidentes de trânsito com vítimas (em 1999). Deseja-se saber:<br>\n",
    "- Qual o maior e menor índice de acidentes de transito e a que cidade pertence;<br>\n",
    "- Qual a média de veículos nas cinco cidades juntas;<br>\n",
    "- Qual a média de acidentes de trânsito nas cidades com menos de 2.000 veículos de passeio."
   ]
  },
  {
   "cell_type": "code",
   "execution_count": null,
   "metadata": {},
   "outputs": [],
   "source": []
  },
  {
   "cell_type": "markdown",
   "metadata": {},
   "source": [
    "#### 24. Faça um programa que receba o valor de uma dívida e mostre uma tabela com os seguintes dados: valor da dívida, valor dos juros, quantidade de parcelas e valor da parcela.<br>\n",
    "Os juros e a quantidade de parcelas seguem a tabela abaixo:<br>\n",
    "Quantidade de Parcelas % de Juros sobre o valor inicial da dívida<br>\n",
    "1 0<br>\n",
    "3 10<br>\n",
    "6 15<br>\n",
    "9 20<br>\n",
    "12 25<br>\n",
    "Exemplo de saída do programa:<br>\n",
    "Valor da Dívida Valor dos Juros Quantidade de Parcelas Valor da Parcela<br>\n",
    "R$ 1.000,00 0 1 R$ 1.000,00<br>\n",
    "R$ 1.100,00 100 3 R$ 366,00<br>\n",
    "R$ 1.150,00 150 6 R$ 191,67"
   ]
  },
  {
   "cell_type": "code",
   "execution_count": null,
   "metadata": {},
   "outputs": [],
   "source": []
  },
  {
   "cell_type": "markdown",
   "metadata": {},
   "source": [
    "#### 25. Faça um programa que mostre os n termos da Série a seguir:<br>\n",
    "S = 1/1 + 2/3 + 3/5 + 4/7 + 5/9 + ... + n/m.<br>\n",
    "Imprima no final a soma da série."
   ]
  },
  {
   "cell_type": "code",
   "execution_count": null,
   "metadata": {},
   "outputs": [],
   "source": []
  }
 ],
 "metadata": {
  "kernelspec": {
   "display_name": "Python 3",
   "language": "python",
   "name": "python3"
  },
  "language_info": {
   "codemirror_mode": {
    "name": "ipython",
    "version": 3
   },
   "file_extension": ".py",
   "mimetype": "text/x-python",
   "name": "python",
   "nbconvert_exporter": "python",
   "pygments_lexer": "ipython3",
   "version": "3.6.5"
  }
 },
 "nbformat": 4,
 "nbformat_minor": 2
}
