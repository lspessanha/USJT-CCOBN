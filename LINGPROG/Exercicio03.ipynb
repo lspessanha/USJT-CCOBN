{
 "cells": [
  {
   "cell_type": "markdown",
   "metadata": {},
   "source": [
    "## Desvio Condicional\n",
    "#### 1. Faça um Programa que peça dois números e imprima o maior deles."
   ]
  },
  {
   "cell_type": "code",
   "execution_count": 10,
   "metadata": {},
   "outputs": [
    {
     "name": "stdout",
     "output_type": "stream",
     "text": [
      "A: Digite um número: 10\n",
      "B: Digite outro número: 11\n",
      "O número B: 11 é maior que A: 10\n"
     ]
    }
   ],
   "source": [
    "numero_a = int(input(\"A: Digite um número: \"))\n",
    "numero_b = int(input(\"B: Digite outro número: \"))\n",
    "\n",
    "if numero_a > numero_b:\n",
    "    print(\"O número A: %s é maior que B: %s\" %(numero_a, numero_b))\n",
    "else:\n",
    "    print(\"O número B: %s é maior que A: %s\" %(numero_b, numero_a))"
   ]
  },
  {
   "cell_type": "markdown",
   "metadata": {},
   "source": [
    "#### 2. Faça um Programa que verifique se uma letra digitada é vogal ou consoante."
   ]
  },
  {
   "cell_type": "code",
   "execution_count": 11,
   "metadata": {},
   "outputs": [
    {
     "name": "stdout",
     "output_type": "stream",
     "text": [
      "Digite uma letra: c\n",
      "A letra 'c' é uma consoante.\n"
     ]
    }
   ],
   "source": [
    "letra = str(input(\"Digite uma letra: \"))\n",
    "\n",
    "if (letra == 'a' or letra == 'e' or letra == 'i' or letra == 'o' or letra == 'u'):\n",
    "    print(\"A letra '%s' é uma vogal.\" %(letra))\n",
    "else:\n",
    "    print(\"A letra '%s' é uma consoante.\" %(letra))"
   ]
  },
  {
   "cell_type": "markdown",
   "metadata": {},
   "source": [
    "#### 3. Faça um programa para a leitura de duas notas parciais de um aluno. O programa deve calcular a média alcançada por aluno e apresentar:\n",
    "- A mensagem \"Aprovado\", se a média alcançada for maior ou igual a sete;\n",
    "- A mensagem \"Reprovado\", se a média for menor do que sete;\n",
    "- A mensagem \"Aprovado com Distinção\", se a média for igual a dez."
   ]
  },
  {
   "cell_type": "code",
   "execution_count": 14,
   "metadata": {},
   "outputs": [
    {
     "name": "stdout",
     "output_type": "stream",
     "text": [
      "Digite a primeira nota do aluno: 7\n",
      "Digite a segunda nota do aluno: 6\n",
      "Aluno Reprovado, a média da nota é de: 6.5\n"
     ]
    }
   ],
   "source": [
    "nota_1 = int(input(\"Digite a primeira nota do aluno: \"))\n",
    "nota_2 = int(input(\"Digite a segunda nota do aluno: \"))\n",
    "\n",
    "media = (nota_1+nota_2)/2\n",
    "\n",
    "if media == 10:\n",
    "    print(\"Aluno Aprovado com Distinção, a média da nota é de: %s\" %(media))\n",
    "elif media >= 7:\n",
    "    print(\"Aluno Aprovado, a média da nota é de: %s\" %(media))\n",
    "else:\n",
    "    print(\"Aluno Reprovado, a média da nota é de: %s\" %(media))"
   ]
  },
  {
   "cell_type": "markdown",
   "metadata": {},
   "source": [
    "#### 4. Faça um Programa que leia três números e mostre-os em ordem decrescente."
   ]
  },
  {
   "cell_type": "code",
   "execution_count": 44,
   "metadata": {},
   "outputs": [
    {
     "name": "stdout",
     "output_type": "stream",
     "text": [
      "Digite o primeiro número: 3\n",
      "Digite o segundo número: 2\n",
      "Digite o terceiro número: 1\n",
      "3 - 2 - 1\n"
     ]
    }
   ],
   "source": [
    "numero_1 = int(input(\"Digite o primeiro número: \"))\n",
    "numero_2 = int(input(\"Digite o segundo número: \"))\n",
    "numero_3 = int(input(\"Digite o terceiro número: \"))\n",
    "\n",
    "if numero_2 > numero_1 and numero_1 > numero_3:\n",
    "    print(\"%s - %s - %s\" %(numero_2, numero_1, numero_3))\n",
    "elif numero_2 > numero_1 and numero_3 > numero_2:\n",
    "    print(\"%s - %s - %s\" %(numero_3, numero_2, numero_1))\n",
    "elif numero_2 > numero_3 and numero_3 > numero_1:\n",
    "    print(\"%s - %s - %s\" %(numero_2, numero_3, numero_1))\n",
    "elif numero_1 > numero_2 and numero_3 > numero_1:\n",
    "    print(\"%s - %s - %s\" %(numero_3, numero_1, numero_2))\n",
    "elif numero_1 > numero_2 and numero_3 > numero_2:\n",
    "    print(\"%s - %s - %s\" %(numero_1, numero_3, numero_2))\n",
    "else:\n",
    "    print(\"%s - %s - %s\" %(numero_1, numero_2, numero_3))"
   ]
  },
  {
   "cell_type": "markdown",
   "metadata": {},
   "source": [
    "#### 5. As Organizações Tabajara resolveram dar um aumento de salário aos seus colaboradores e lhe contrataram para desenvolver o programa que calculará os reajustes.\n",
    "Faça um programa que recebe o salário de um colaborador e o reajuste segundo o seguinte critério, baseado no salário atual:<br>\n",
    "- salários até R$ 280,00 (incluindo) : aumento de 20%<br>\n",
    "- salários entre R$ 280,00 e R$ 700,00 : aumento de 15%<br>\n",
    "- salários entre R$ 700,00 e R$ 1500,00 : aumento de 10%<br>\n",
    "- salários de R$ 1500,00 em diante : aumento de 5%<br>\n",
    "Após o aumento ser realizado, informe na tela:<br>\n",
    "- o salário antes do reajuste;<br>\n",
    "- o percentual de aumento aplicado;<br>\n",
    "- o valor do aumento;<br>\n",
    "- o novo salário, após o aumento."
   ]
  },
  {
   "cell_type": "code",
   "execution_count": 49,
   "metadata": {},
   "outputs": [
    {
     "name": "stdout",
     "output_type": "stream",
     "text": [
      "Informe o salário do colaborador: 1501\n",
      "O salário antes do reajuste: 1501 \n",
      "O percentual de aumento aplicado foi de 5%\n",
      "O valor do aumento: 75.05\n",
      "O novo salário, após o aumento: 1576.05\n"
     ]
    }
   ],
   "source": [
    "salario = int(input(\"Informe o salário do colaborador: \"))\n",
    "\n",
    "valor_aumento = 0\n",
    "novo_salario = 0\n",
    "\n",
    "def calculaSalario(salario, porcentagem):\n",
    "    valor_aumento = salario * (porcentagem/100)\n",
    "    novo_salario = salario + valor_aumento\n",
    "    return {'valor_aumento':valor_aumento, 'novo_salario':novo_salario}\n",
    "\n",
    "if salario <= 280:\n",
    "    calculado = calculaSalario(salario, 20)\n",
    "    print(\"O salário antes do reajuste: %s \" %(salario))\n",
    "    print(\"O percentual de aumento aplicado foi de 20%\")\n",
    "    print(\"O valor do aumento: %s\" %(calculado['valor_aumento']))\n",
    "    print(\"O novo salário, após o aumento: %s\" %(calculado['novo_salario']))\n",
    "elif salario <= 700:\n",
    "    calculado = calculaSalario(salario, 15)\n",
    "    print(\"O salário antes do reajuste: %s \" %(salario))\n",
    "    print(\"O percentual de aumento aplicado foi de 15%\")\n",
    "    print(\"O valor do aumento: %s\" %(calculado['valor_aumento']))\n",
    "    print(\"O novo salário, após o aumento: %s\" %(calculado['novo_salario']))\n",
    "elif salario <= 1500:\n",
    "    calculado = calculaSalario(salario, 10)\n",
    "    print(\"O salário antes do reajuste: %s \" %(salario))\n",
    "    print(\"O percentual de aumento aplicado foi de 10%\")\n",
    "    print(\"O valor do aumento: %s\" %(calculado['valor_aumento']))\n",
    "    print(\"O novo salário, após o aumento: %s\" %(calculado['novo_salario']))\n",
    "else:\n",
    "    calculado = calculaSalario(salario, 5)\n",
    "    print(\"O salário antes do reajuste: %s \" %(salario))\n",
    "    print(\"O percentual de aumento aplicado foi de 5%\")\n",
    "    print(\"O valor do aumento: %s\" %(calculado['valor_aumento']))\n",
    "    print(\"O novo salário, após o aumento: %s\" %(calculado['novo_salario']))"
   ]
  },
  {
   "cell_type": "markdown",
   "metadata": {},
   "source": [
    "#### 6. Faça um Programa que leia um número e exiba o dia correspondente da semana. (1-Domingo, 2- Segunda, etc.), se digitar outro valor deve aparecer valor inválido."
   ]
  },
  {
   "cell_type": "code",
   "execution_count": 57,
   "metadata": {},
   "outputs": [
    {
     "name": "stdout",
     "output_type": "stream",
     "text": [
      "Digite o número da semana desejada (1 a 7): 8\n",
      "Número digitado: 8 - Valor inválido!\n"
     ]
    }
   ],
   "source": [
    "numero_semana = int(input(\"Digite o número da semana desejada (1 a 7): \"))\n",
    "\n",
    "if numero_semana  == 1:\n",
    "    print(\"Número digitado: %s - Domingo\" %(numero_semana))\n",
    "elif numero_semana  == 2:\n",
    "    print(\"Número digitado: %s - Segunda\" %(numero_semana))\n",
    "elif numero_semana == 3:\n",
    "    print(\"Número digitado: %s - Terça\" %(numero_semana))\n",
    "elif numero_semana == 4:\n",
    "    print(\"Número digitado: %s - Quarta\" %(numero_semana))\n",
    "elif numero_semana == 5:\n",
    "    print(\"Número digitado: %s - Quinta\" %(numero_semana))\n",
    "elif numero_semana == 6:\n",
    "    print(\"Número digitado: %s - Sexta\" %(numero_semana))\n",
    "elif numero_semana == 7:\n",
    "    print(\"Número digitado: %s - Sábado\" %(numero_semana))\n",
    "else:\n",
    "    print(\"Número digitado: %s - Valor inválido!\" %(numero_semana))"
   ]
  },
  {
   "cell_type": "markdown",
   "metadata": {},
   "source": [
    "#### 7. Faça um programa que lê as duas notas parciais obtidas por um aluno numa disciplina ao longo de um semestre, e calcule a sua média. A atribuição de conceitos obedece à tabela abaixo:\n",
    "Média de Aproveitamento Conceito<br>\n",
    "Entre 9.0 e 10.0 A<br>\n",
    "Entre 7.5 e 9.0 B<br>\n",
    "Entre 6.0 e 7.5 C<br>\n",
    "Entre 4.0 e 6.0 D<br>\n",
    "Entre 4.0 e zero E<br>\n",
    "O algoritmo deve mostrar na tela as notas, a média, o conceito correspondente e a mensagem “APROVADO” se o conceito for A, B ou C ou “REPROVADO” se o conceito for D ou E."
   ]
  },
  {
   "cell_type": "code",
   "execution_count": 75,
   "metadata": {},
   "outputs": [
    {
     "name": "stdout",
     "output_type": "stream",
     "text": [
      "Digite a primeira nota do aluno: 3.9\n",
      "Digite a segunda nota do aluno:  3.9\n",
      "Média do aluno é de: 3.9 - Conceito: E - REPROVADO\n"
     ]
    }
   ],
   "source": [
    "nota_1 = float(input(\"Digite a primeira nota do aluno: \"))\n",
    "nota_2 = float(input(\"Digite a segunda nota do aluno:  \"))\n",
    "\n",
    "media = (nota_1+nota_2)/2\n",
    "\n",
    "if nota_1 > 10 or nota_2 > 10 or nota_1 < 0 or nota_2 < 0:\n",
    "    print(\"Por favor digite somente notas de 0 a 10\")\n",
    "elif media >= 9:\n",
    "    print(\"Média do aluno é de: %s - Conceito: A - APROVADO\" %(media))\n",
    "elif media >= 7.5:\n",
    "    print(\"Média do aluno é de: %s - Conceito: B - APROVADO\" %(media))\n",
    "elif media >= 6:\n",
    "    print(\"Média do aluno é de: %s - Conceito: C - APROVADO\" %(media))\n",
    "elif media >= 4:\n",
    "    print(\"Média do aluno é de: %s - Conceito: D - REPROVADO\" %(media))\n",
    "else:\n",
    "    print(\"Média do aluno é de: %s - Conceito: E - REPROVADO\" %(media))"
   ]
  },
  {
   "cell_type": "markdown",
   "metadata": {},
   "source": [
    "#### 8. Faça um Programa que peça os 3 lados de um triângulo. O programa deverá informar se os valores podem ser um triângulo.\n",
    "Indique, caso os lados formem um triângulo, se o mesmo é:<br>\n",
    "equilátero, isósceles ou escaleno.<br>\n",
    "Dicas:<br>\n",
    "- Três lados formam um triângulo quando a soma de quaisquer dois lados for maior que o terceiro;<br>\n",
    "- Triângulo Equilátero: três lados iguais;<br>\n",
    "- Triângulo Isósceles: quaisquer dois lados iguais;<br>\n",
    "- Triângulo Escaleno: três lados diferentes;"
   ]
  },
  {
   "cell_type": "code",
   "execution_count": 11,
   "metadata": {},
   "outputs": [
    {
     "name": "stdout",
     "output_type": "stream",
     "text": [
      "Digite o primeiro lado: 1\n",
      "Digite o segundo lado: 2\n",
      "Digite o terceiro lado: 3\n",
      "Triângulo Escaleno\n"
     ]
    }
   ],
   "source": [
    "lado_x = int(input(\"Digite o primeiro lado: \"))\n",
    "lado_y = int(input(\"Digite o segundo lado: \"))\n",
    "lado_z = int(input(\"Digite o terceiro lado: \"))\n",
    "\n",
    "\n",
    "if lado_x != 0 and lado_y != 0 and lado_z != 0:\n",
    "    if lado_x == lado_y == lado_z:\n",
    "        print(\"Triângulo Equilátero.\")\n",
    "    elif lado_x == lado_y or lado_y == lado_z or lado_z == lado_x:\n",
    "        print(\"Triângulo Isósceles.\")\n",
    "    else:\n",
    "        print(\"Triângulo Escaleno.\")\n",
    "else:\n",
    "    print(\"Não é um triângulo.\")"
   ]
  },
  {
   "cell_type": "markdown",
   "metadata": {},
   "source": [
    "#### 9. Faça um programa que calcule as raízes de uma equação do segundo grau, na forma ax2 + bx + c. O programa deverá pedir os valores de a, b e c e fazer as consistências, informando ao usuário nas seguintes situações:\n",
    "- Se o usuário informar o valor de A igual a zero, a equação não é do segundo grau e o programa não deve fazer pedir os demais valores, sendo encerrado;<br>\n",
    "- Se o delta calculado for negativo, a equação não possui raizes reais. Informe ao usuário e encerre o programa;<br>\n",
    "- Se o delta calculado for igual a zero a equação possui apenas uma raiz real; informe-a ao usuário;<br>\n",
    "- Se o delta for positivo, a equação possui duas raiz reais; informe as ao usuário;"
   ]
  },
  {
   "cell_type": "code",
   "execution_count": 22,
   "metadata": {},
   "outputs": [
    {
     "name": "stdout",
     "output_type": "stream",
     "text": [
      "Insira o valor de 'a': 1\n",
      "Insira o valor de 'b': -5\n",
      "Insira o valor de 'c': 6\n",
      "A equação possui duas raizes reais: 3.0 e 2.0\n"
     ]
    }
   ],
   "source": [
    "import math\n",
    "\n",
    "a = float(input(\"Insira o valor de 'a': \"))\n",
    "\n",
    "def calculaDelta(a, b, c):\n",
    "    return (b**2) - (4*a*c)\n",
    "\n",
    "def calculaRaizReal(a, b):\n",
    "    return -b / (2*a)\n",
    "\n",
    "def calculaRaizesReais(a, b, delta):\n",
    "    x1 = (-b + math.sqrt(delta)) / (2*a)\n",
    "    x2 = (-b - math.sqrt(delta)) / (2*a)\n",
    "    return {'x1':x1, 'x2':x2}\n",
    "\n",
    "if a == 0:\n",
    "    print(\"Não é uma equação do segundo grau se o valor de 'a' for igual a zero.\")\n",
    "else:\n",
    "    b = float(input(\"Insira o valor de 'b': \"))\n",
    "    c = float(input(\"Insira o valor de 'c': \"))\n",
    "\n",
    "    delta = calculaDelta(a, b, c)\n",
    "\n",
    "    if delta < 0:\n",
    "        print(\"A equação não possui raízes reais, valor de delta: %s\" %(delta))\n",
    "    elif delta == 0:\n",
    "        raiz = calculaRaizReal(a, b)\n",
    "        print(\"A equação possui apenas uma raiz real: %s\" %(raiz))\n",
    "    else:\n",
    "        raizes = calculaRaizesReais(a, b, delta)\n",
    "        print(\"A equação possui duas raizes reais: %s e %s\" %(raizes['x1'], raizes['x2']))"
   ]
  },
  {
   "cell_type": "markdown",
   "metadata": {},
   "source": [
    "#### 10. Faça um Programa para um caixa eletrônico. O programa deverá perguntar ao usuário a valor do saque e depois informar quantas notas de cada valor serão fornecidas. As notas disponíveis serão as de 1, 5, 10, 50 e 100 reais. O valor mínimo é de 10 reais e o máximo de 600 reais. O programa não deve se preocupar com a quantidade de notas existentes na máquina.\n",
    "- Exemplo 1: Para sacar a quantia de 256 reais, o programa fornece duas notas de 100, uma nota de 50, uma nota de 5 e uma nota de 1;<br>\n",
    "- Exemplo 2: Para sacar a quantia de 399 reais, o programa fornece três notas de 100, uma nota de 50, quatro notas de 10, uma nota de 5 e quatro notas de 1."
   ]
  },
  {
   "cell_type": "code",
   "execution_count": 30,
   "metadata": {},
   "outputs": [
    {
     "name": "stdout",
     "output_type": "stream",
     "text": [
      "Informe o valor para saque: 399\n",
      "3 nota(s) de 100 reais.\n",
      "1 nota(s) de 50 reais.\n",
      "4 nota(s) de 10 reais.\n",
      "1 nota(s) de 5 reais.\n",
      "4 nota(s) de 1 real.\n"
     ]
    }
   ],
   "source": [
    "saque = int(input(\"Informe o valor para saque: \"))\n",
    "\n",
    "def selecionarNotasParaSaque(saque):\n",
    "    resto = saque % 100\n",
    "    \n",
    "    notas_100 = saque // 100\n",
    "    notas_50 = resto // 50\n",
    "    resto = resto % 50\n",
    "    notas_10 = resto // 10\n",
    "    resto = resto % 10\n",
    "    notas_5 = resto // 5\n",
    "    resto = resto % 5\n",
    "    \n",
    "    return {'notas_100':notas_100, 'notas_50':notas_50, 'notas_10':notas_10, 'notas_5':notas_5, 'resto':resto}\n",
    "\n",
    "if saque >= 10 and saque <= 600:\n",
    "    notas = selecionarNotasParaSaque(saque)\n",
    "\n",
    "    if notas['notas_100'] != 0:\n",
    "        print(\"%s nota(s) de 100 reais.\" %(notas['notas_100']))\n",
    "\n",
    "    if notas['notas_50'] != 0:\n",
    "        print(\"%s nota(s) de 50 reais.\" %(notas['notas_50']))\n",
    "\n",
    "    if notas['notas_10'] != 0:\n",
    "        print(\"%s nota(s) de 10 reais.\" %(notas['notas_10']))\n",
    "\n",
    "    if notas['notas_5'] != 0:\n",
    "        print(\"%s nota(s) de 5 reais.\" %(notas['notas_5']))\n",
    "\n",
    "    if notas['resto'] != 0:\n",
    "        print(\"%s nota(s) de 1 real.\" %(notas['resto']))\n",
    "else:\n",
    "    print(\"Não é possível sacar o valor informado. O valor mínimo é de 10 reais e o máximo de 600 reais.\")"
   ]
  },
  {
   "cell_type": "markdown",
   "metadata": {},
   "source": [
    "#### 11. Faça um programa que faça 5 perguntas para uma pessoa sobre um crime. As perguntas são:\n",
    "\"Telefonou para a vítima?\"<br>\n",
    "\"Esteve no local do crime?\"<br>\n",
    "\"Mora perto da vítima?\"<br>\n",
    "\"Devia para a vítima?\"<br>\n",
    "\"Já trabalhou com a vítima?\"<br>\n",
    "O programa deve no final emitir uma classificação sobre a participação da pessoa no crime. Se a pessoa responder positivamente a 2 questões ela deve ser classificada como \"Suspeita\", entre 3 e 4 como \"Cúmplice\" e 5 como \"Assassino\". Caso contrário, ele será classificado como \"Inocente\"."
   ]
  },
  {
   "cell_type": "code",
   "execution_count": 38,
   "metadata": {},
   "outputs": [
    {
     "name": "stdout",
     "output_type": "stream",
     "text": [
      "Telefonou para a vítima? Digite 'sim' ou 'nao': sim\n",
      "Esteve no local do crime? Digite 'sim' ou 'nao': sim\n",
      "Mora perto da vítima? Digite 'sim' ou 'nao': sim\n",
      "Devia para a vítima? Digite 'sim' ou 'nao': sim\n",
      "Já trabalhou com a vítima? Digite 'sim' ou 'nao': nao\n",
      "Cúmplice\n"
     ]
    }
   ],
   "source": [
    "perguntas = [\n",
    "    input(\"Telefonou para a vítima? Digite 'sim' ou 'nao': \"),\n",
    "    input(\"Esteve no local do crime? Digite 'sim' ou 'nao': \"),\n",
    "    input(\"Mora perto da vítima? Digite 'sim' ou 'nao': \"),\n",
    "    input(\"Devia para a vítima? Digite 'sim' ou 'nao': \"),\n",
    "    input(\"Já trabalhou com a vítima? Digite 'sim' ou 'nao': \")\n",
    "]\n",
    "\n",
    "qtd_respostas = 0\n",
    "for resposta in perguntas:\n",
    "    if resposta == \"sim\":\n",
    "        qtd_respostas += 1\n",
    "\n",
    "if qtd_respostas == 5:\n",
    "    print(\"Assassino\")\n",
    "elif qtd_respostas >= 3:\n",
    "    print(\"Cúmplice\")\n",
    "elif qtd_respostas == 2:\n",
    "    print(\"Suspeita\")\n",
    "else:\n",
    "    print(\"Inocente\")"
   ]
  },
  {
   "cell_type": "markdown",
   "metadata": {},
   "source": [
    "#### 12. Uma fruteira está vendendo frutas com a seguinte tabela de preços:\n",
    "Até 5 Kg Acima de 5 Kg<br>\n",
    "Morango R$ 2,50 por Kg - R$ 2,20 por Kg<br>\n",
    "Maçã R$ 1,80 por Kg - R$ 1,50 por Kg<br>\n",
    "Se o cliente comprar mais de 8 Kg em frutas ou o valor total da compra ultrapassar R$ 25,00, receberá ainda um desconto de 10% sobre este total.<br>\n",
    "Escreva um algoritmo para ler a quantidade (em Kg) de morangos e a quantidade (em Kg) de maças adquiridas e escreva o valor a ser pago pelo cliente."
   ]
  },
  {
   "cell_type": "code",
   "execution_count": 51,
   "metadata": {},
   "outputs": [
    {
     "name": "stdout",
     "output_type": "stream",
     "text": [
      "Digite a quantidade em kg de morangos: 4\n",
      "Digite a quantidade em kg de maçãs: 5\n",
      "Valor a ser pago pelo cliente com desconto de 10 por cento: 15.75\n"
     ]
    }
   ],
   "source": [
    "kg_morango = float(input(\"Digite a quantidade em kg de morangos: \"))\n",
    "kg_maca = float(input(\"Digite a quantidade em kg de maçãs: \"))\n",
    "\n",
    "kg_total = kg_morango + kg_maca\n",
    "\n",
    "preco = 0\n",
    "if kg_morango < 5:\n",
    "    preco += kg_morango * 2.50\n",
    "else:\n",
    "    preco += kg_morango * 2.20\n",
    "    \n",
    "if kg_maca < 5:\n",
    "    preco += kg_maca * 1.80\n",
    "else:\n",
    "    preco += kg_maca * 1.50\n",
    "    \n",
    "if kg_total > 8 or preco > 25.00:\n",
    "    preco *= 0.90\n",
    "    print(\"Valor a ser pago pelo cliente com desconto de 10 por cento: %s\" %(preco))\n",
    "else:\n",
    "    print(\"Valor a ser pago pelo cliente: %s\" %(preco))"
   ]
  },
  {
   "cell_type": "markdown",
   "metadata": {},
   "source": [
    "## Loops\n",
    "#### 13.1. Faça um programa que peça uma nota, entre zero e dez. Mostre uma mensagem caso o valor seja inválido e continue pedindo até que o usuário informe um valor válido."
   ]
  },
  {
   "cell_type": "code",
   "execution_count": 55,
   "metadata": {},
   "outputs": [
    {
     "name": "stdout",
     "output_type": "stream",
     "text": [
      "Digite uma nota entre zero e dez: 15\n",
      "Digite uma nota entre zero e dez: 12\n",
      "Digite uma nota entre zero e dez: 5\n",
      "Valor válido.\n"
     ]
    }
   ],
   "source": [
    "nota = 11\n",
    "while nota < 0 or nota > 10:\n",
    "    nota = int(input(\"Digite uma nota entre zero e dez: \"))\n",
    "else:\n",
    "    print(\"Valor válido.\")"
   ]
  },
  {
   "cell_type": "markdown",
   "metadata": {},
   "source": [
    "#### 13.2. Faça um programa que leia e valide as seguintes informações:\n",
    "Nome: maior que 3 caracteres;<br>\n",
    "Idade: entre 0 e 150;<br>\n",
    "Salário: maior que zero;<br>\n",
    "Sexo: 'f' ou 'm';<br>\n",
    "Estado Civil: 's', 'c', 'v', 'd';"
   ]
  },
  {
   "cell_type": "code",
   "execution_count": 57,
   "metadata": {},
   "outputs": [
    {
     "name": "stdout",
     "output_type": "stream",
     "text": [
      "Digite um nome com mais de 3 caracteres: Leo\n",
      "Por gentileza digite um nome com mais de 3 caracteres: Leonardo\n",
      "Digite uma idade entre 0 e 150: 151\n",
      "Por gentileza digite uma idade entre 0 e 150: 24\n",
      "Digite um salário maior que zero: 0\n",
      "Por gentileza digite um o salário maior que zero: 4500\n",
      "Digite o sexo 'f' ou 'm': z\n",
      "Por gentileza digite o sexo 'f' ou 'm': m\n",
      "Digite o Estado Civil 's', 'c', 'v', 'd': e\n",
      "Por favor digite o Estado Civil 's', 'c', 'v', 'd': s\n"
     ]
    }
   ],
   "source": [
    "nome = input(\"Digite um nome com mais de 3 caracteres: \")\n",
    "while len(nome) <= 3:\n",
    "    nome = input(\"Por gentileza digite um nome com mais de 3 caracteres: \")\n",
    "    \n",
    "idade = int(input(\"Digite uma idade entre 0 e 150: \"))\n",
    "while idade < 0 or idade > 150:\n",
    "    idade = int(input(\"Por gentileza digite uma idade entre 0 e 150: \"))\n",
    "    \n",
    "salario = int(input(\"Digite um salário maior que zero: \"))\n",
    "while salario <= 0:\n",
    "    salario = int(input(\"Por gentileza digite um o salário maior que zero: \"))\n",
    "    \n",
    "sexo = input(\"Digite o sexo 'f' ou 'm': \")\n",
    "while not (sexo in ['f', 'm']):\n",
    "    sexo = input(\"Por gentileza digite o sexo 'f' ou 'm': \")\n",
    "    \n",
    "estado_civil = input(\"Digite o Estado Civil 's', 'c', 'v', 'd': \")\n",
    "while not (estado_civil in ['s', 'c', 'v', 'd']):\n",
    "    estado_civil = input(\"Por favor digite o Estado Civil 's', 'c', 'v', 'd': \")"
   ]
  },
  {
   "cell_type": "markdown",
   "metadata": {},
   "source": [
    "#### 14. Faça um programa que leia 5 números e informe o maior número."
   ]
  },
  {
   "cell_type": "code",
   "execution_count": 61,
   "metadata": {},
   "outputs": [
    {
     "name": "stdout",
     "output_type": "stream",
     "text": [
      "Informe o 1º número: 12312414\n",
      "Informe o 2º número: 33123\n",
      "Informe o 3º número: 6536\n",
      "Informe o 4º número: 2\n",
      "Informe o 5º número: 0\n",
      "O maior número digitado foi: 12312414\n"
     ]
    }
   ],
   "source": [
    "maior = float('-inf')\n",
    "i = 1\n",
    "while i < 6:\n",
    "    numero = int(input(\"Informe o %sº número: \" %(i)))\n",
    "    i += 1\n",
    "    if numero > maior:\n",
    "        maior = numero\n",
    "\n",
    "print(\"O maior número digitado foi: %s\" %(maior))"
   ]
  },
  {
   "cell_type": "markdown",
   "metadata": {},
   "source": [
    "#### 15. Faça um programa que leia 5 números e informe a soma e a média dos números."
   ]
  },
  {
   "cell_type": "code",
   "execution_count": 62,
   "metadata": {},
   "outputs": [
    {
     "name": "stdout",
     "output_type": "stream",
     "text": [
      "Informe o 1º número: 3\n",
      "Informe o 2º número: 3\n",
      "Informe o 3º número: 3\n",
      "Informe o 4º número: 4\n",
      "Informe o 5º número: 5\n",
      "Soma total dos números digitados: 18\n",
      "Média dos números: 3.6\n"
     ]
    }
   ],
   "source": [
    "soma = 0\n",
    "i = 1\n",
    "while i < 6:\n",
    "    numero = int(input(\"Informe o %sº número: \" %(i)))\n",
    "    i += 1\n",
    "    soma = soma + numero\n",
    "\n",
    "media = soma/5\n",
    "print(\"Soma total dos números digitados: %s\" %(soma))    \n",
    "print(\"Média dos números: %s\" %(media))"
   ]
  },
  {
   "cell_type": "markdown",
   "metadata": {},
   "source": [
    "#### 16. Faça um programa que imprima na tela apenas os números ímpares entre 1 e 50."
   ]
  },
  {
   "cell_type": "code",
   "execution_count": 63,
   "metadata": {},
   "outputs": [
    {
     "name": "stdout",
     "output_type": "stream",
     "text": [
      "1\n",
      "3\n",
      "5\n",
      "7\n",
      "9\n",
      "11\n",
      "13\n",
      "15\n",
      "17\n",
      "19\n",
      "21\n",
      "23\n",
      "25\n",
      "27\n",
      "29\n",
      "31\n",
      "33\n",
      "35\n",
      "37\n",
      "39\n",
      "41\n",
      "43\n",
      "45\n",
      "47\n",
      "49\n"
     ]
    }
   ],
   "source": [
    "for numero in range(1, 50):\n",
    "    if numero % 2 != 0:\n",
    "        print(numero)"
   ]
  },
  {
   "cell_type": "markdown",
   "metadata": {},
   "source": [
    "#### 17. Desenvolva um gerador de tabuada, capaz de gerar a tabuada de qualquer número inteiro entre 1 a 10. O usuário deve informar de qual numero ele deseja ver a tabuada. A saída deve ser conforme o exemplo abaixo:\n",
    "Tabuada de 5:<br>\n",
    "5 X 1 = 5<br>\n",
    "5 X 2 = 10<br>\n",
    "...<br>\n",
    "5 X 10 = 50"
   ]
  },
  {
   "cell_type": "code",
   "execution_count": 65,
   "metadata": {},
   "outputs": [
    {
     "name": "stdout",
     "output_type": "stream",
     "text": [
      "Digite um número entre 1 a 10 para gerar a tabuada: 4\n",
      "4 X 1 = 4\n",
      "4 X 2 = 8\n",
      "4 X 3 = 12\n",
      "4 X 4 = 16\n",
      "4 X 5 = 20\n",
      "4 X 6 = 24\n",
      "4 X 7 = 28\n",
      "4 X 8 = 32\n",
      "4 X 9 = 36\n",
      "4 X 10 = 40\n"
     ]
    }
   ],
   "source": [
    "numero_tabuada = int(input(\"Digite um número entre 1 a 10 para gerar a tabuada: \"))\n",
    "for multiplicando in range(1, 11):\n",
    "    resultado = multiplicando * numero_tabuada\n",
    "    print(\"%s X %s = %s\" %(numero_tabuada, multiplicando, resultado))"
   ]
  },
  {
   "cell_type": "markdown",
   "metadata": {},
   "source": [
    "#### 18. A série de Fibonacci é formada pela sequência 1,1,2,3,5,8,13,21,34,55,... Faça um programa capaz de gerar a série até o n−ésimo termo."
   ]
  },
  {
   "cell_type": "code",
   "execution_count": 71,
   "metadata": {},
   "outputs": [
    {
     "name": "stdout",
     "output_type": "stream",
     "text": [
      "Deseja exibir a sequência de Fibonacci até qual termo? 6\n",
      "1\n",
      "1\n",
      "2\n",
      "3\n",
      "5\n",
      "8\n"
     ]
    }
   ],
   "source": [
    "fibonnaci_a = 1\n",
    "fibonnaci_b = 1\n",
    "n_termo = int(input(\"Deseja exibir a sequência de Fibonacci até qual termo? \"))\n",
    "for i in range(n_termo):\n",
    "    print(fibonnaci_a)\n",
    "    temp = fibonnaci_b\n",
    "    fibonnaci_b = fibonnaci_a + fibonnaci_b\n",
    "    fibonnaci_a = temp"
   ]
  },
  {
   "cell_type": "markdown",
   "metadata": {},
   "source": [
    "#### 19. Faça um programa que calcule o fatorial de um número inteiro fornecido pelo usuário. Ex.: 5!=5.4.3.2.1=120"
   ]
  },
  {
   "cell_type": "code",
   "execution_count": 75,
   "metadata": {},
   "outputs": [
    {
     "name": "stdout",
     "output_type": "stream",
     "text": [
      "Digite o número para ser calculado o seu fatorial: 5\n",
      "Fatorial de 5 é: 120\n"
     ]
    }
   ],
   "source": [
    "numero = int(input(\"Digite o número para ser calculado o seu fatorial: \"))\n",
    "\n",
    "numero_fatorial = numero\n",
    "for i in range(1, numero):\n",
    "    numero = numero * i\n",
    "fatorial = numero\n",
    "\n",
    "print(\"Fatorial de %s é: %s\" %(numero_fatorial, fatorial))"
   ]
  },
  {
   "cell_type": "markdown",
   "metadata": {},
   "source": [
    "#### 20. O Sr. Manoel Joaquim possui uma grande loja de artigos de R$ 1,99, com cerca de 10 caixas. Para agilizar o cálculo de quanto cada cliente deve pagar ele desenvolveu um tabela que contém o número de itens que o cliente comprou e ao lado o valor da conta.<br>\n",
    "Desta forma a atendente do caixa precisa apenas contar quantos itens o cliente está levando e olhar na tabela de preços. Você foi contratado para desenvolver o programa que monta esta tabela de preços, que conterá os preços de 1 até 50 produtos, conforme o exemplo abaixo:<br>\n",
    "Lojas Quase Dois - Tabela de preços<br>\n",
    "1 - R$ 1.99<br>\n",
    "2 - R$ 3.98<br>\n",
    "...<br>\n",
    "50 - R$ 99.50"
   ]
  },
  {
   "cell_type": "code",
   "execution_count": 77,
   "metadata": {},
   "outputs": [
    {
     "name": "stdout",
     "output_type": "stream",
     "text": [
      "1 - R$ 1.99\n",
      "2 - R$ 3.98\n",
      "3 - R$ 5.97\n",
      "4 - R$ 7.96\n",
      "5 - R$ 9.95\n",
      "6 - R$ 11.94\n",
      "7 - R$ 13.93\n",
      "8 - R$ 15.92\n",
      "9 - R$ 17.91\n",
      "10 - R$ 19.9\n",
      "11 - R$ 21.89\n",
      "12 - R$ 23.88\n",
      "13 - R$ 25.87\n",
      "14 - R$ 27.86\n",
      "15 - R$ 29.85\n",
      "16 - R$ 31.84\n",
      "17 - R$ 33.83\n",
      "18 - R$ 35.82\n",
      "19 - R$ 37.81\n",
      "20 - R$ 39.8\n",
      "21 - R$ 41.79\n",
      "22 - R$ 43.78\n",
      "23 - R$ 45.77\n",
      "24 - R$ 47.76\n",
      "25 - R$ 49.75\n",
      "26 - R$ 51.74\n",
      "27 - R$ 53.73\n",
      "28 - R$ 55.72\n",
      "29 - R$ 57.71\n",
      "30 - R$ 59.7\n",
      "31 - R$ 61.69\n",
      "32 - R$ 63.68\n",
      "33 - R$ 65.67\n",
      "34 - R$ 67.66\n",
      "35 - R$ 69.65\n",
      "36 - R$ 71.64\n",
      "37 - R$ 73.63\n",
      "38 - R$ 75.62\n",
      "39 - R$ 77.61\n",
      "40 - R$ 79.6\n",
      "41 - R$ 81.59\n",
      "42 - R$ 83.58\n",
      "43 - R$ 85.57\n",
      "44 - R$ 87.56\n",
      "45 - R$ 89.55\n",
      "46 - R$ 91.54\n",
      "47 - R$ 93.53\n",
      "48 - R$ 95.52\n",
      "49 - R$ 97.51\n",
      "50 - R$ 99.5\n"
     ]
    }
   ],
   "source": [
    "for quantidade in range(1, 51):\n",
    "    preco = quantidade * 1.99\n",
    "    print(\"%s - R$ %s\" %(quantidade, preco))"
   ]
  },
  {
   "cell_type": "markdown",
   "metadata": {},
   "source": [
    "#### 21. O Sr. Manoel Joaquim acaba de adquirir uma panificadora e pretende implantar a metodologia da tabelinha, que já é um sucesso na sua loja de 1,99. Você foi contratado para desenvolver o programa que monta a tabela de preços de pães, de 1 até 50 pães, a partir do preço do pão informado pelo usuário, conforme o exemplo abaixo:<br>\n",
    "Preço do pão: R$ 0.18<br>\n",
    "Panificadora Pão de Ontem - Tabela de preços<br>\n",
    "1 - R$ 0.18<br>\n",
    "2 - R$ 0.36<br>\n",
    "...<br>\n",
    "50 - R$ 9.00"
   ]
  },
  {
   "cell_type": "code",
   "execution_count": 80,
   "metadata": {},
   "outputs": [
    {
     "name": "stdout",
     "output_type": "stream",
     "text": [
      "Informe o preço do pão: 0.36\n",
      "1 - R$ 0.36\n",
      "2 - R$ 0.72\n",
      "3 - R$ 1.08\n",
      "4 - R$ 1.44\n",
      "5 - R$ 1.7999999999999998\n",
      "6 - R$ 2.16\n",
      "7 - R$ 2.52\n",
      "8 - R$ 2.88\n",
      "9 - R$ 3.2399999999999998\n",
      "10 - R$ 3.5999999999999996\n",
      "11 - R$ 3.96\n",
      "12 - R$ 4.32\n",
      "13 - R$ 4.68\n",
      "14 - R$ 5.04\n",
      "15 - R$ 5.3999999999999995\n",
      "16 - R$ 5.76\n",
      "17 - R$ 6.12\n",
      "18 - R$ 6.4799999999999995\n",
      "19 - R$ 6.84\n",
      "20 - R$ 7.199999999999999\n",
      "21 - R$ 7.56\n",
      "22 - R$ 7.92\n",
      "23 - R$ 8.28\n",
      "24 - R$ 8.64\n",
      "25 - R$ 9.0\n",
      "26 - R$ 9.36\n",
      "27 - R$ 9.719999999999999\n",
      "28 - R$ 10.08\n",
      "29 - R$ 10.44\n",
      "30 - R$ 10.799999999999999\n",
      "31 - R$ 11.16\n",
      "32 - R$ 11.52\n",
      "33 - R$ 11.879999999999999\n",
      "34 - R$ 12.24\n",
      "35 - R$ 12.6\n",
      "36 - R$ 12.959999999999999\n",
      "37 - R$ 13.32\n",
      "38 - R$ 13.68\n",
      "39 - R$ 14.04\n",
      "40 - R$ 14.399999999999999\n",
      "41 - R$ 14.76\n",
      "42 - R$ 15.12\n",
      "43 - R$ 15.479999999999999\n",
      "44 - R$ 15.84\n",
      "45 - R$ 16.2\n",
      "46 - R$ 16.56\n",
      "47 - R$ 16.919999999999998\n",
      "48 - R$ 17.28\n",
      "49 - R$ 17.64\n",
      "50 - R$ 18.0\n"
     ]
    }
   ],
   "source": [
    "preco_pao = float(input(\"Informe o preço do pão: \"))\n",
    "\n",
    "for quantidade in range(1, 51):\n",
    "    preco = quantidade * preco_pao\n",
    "    print(\"%s - R$ %s\" %(quantidade, preco))"
   ]
  },
  {
   "cell_type": "markdown",
   "metadata": {},
   "source": [
    "#### 22. O Sr. Manoel Joaquim expandiu seus negócios para além dos negócios de 1,99 e agora possui uma loja de conveniências. Faça um programa que implemente uma caixa registradora rudimentar. O programa deverá receber um número desconhecido de valores referentes aos preços das mercadorias. Um valor zero deve ser informado pelo operador para indicar o final da compra. O programa deve então mostrar o total da compra e perguntar o valor em dinheiro que o cliente forneceu, para então calcular e mostrar o valor do troco. Após esta operação, o programa deverá voltar ao ponto inicial, para registrar a próxima compra.<br>\n",
    "A saída deve ser conforme o exemplo abaixo:<br>\n",
    "Lojas Tabajara<br>\n",
    "Produto 1: R$ 2.20<br>\n",
    "Produto 2: R$ 5.80<br>\n",
    "Produto 3: R$ 0<br>\n",
    "Total: R$ 9.00<br>\n",
    "Dinheiro: R$ 20.00<br>\n",
    "Troco: R$ 11.00<br>\n",
    "..."
   ]
  },
  {
   "cell_type": "code",
   "execution_count": 97,
   "metadata": {},
   "outputs": [
    {
     "name": "stdout",
     "output_type": "stream",
     "text": [
      "Informe o valor para o Produto 1 (Digite 0 para sair): 5\n",
      "Informe o valor para o Produto 2 (Digite 0 para sair): 3\n",
      "Informe o valor para o Produto 3 (Digite 0 para sair): 9\n",
      "Informe o valor para o Produto 4 (Digite 0 para sair): 0\n",
      "Total: R$ 17.0\n",
      "Informe o dinheiro para efetuar a compra: 25\n",
      "Dinheiro: R$ 25.0\n",
      "Troco: R$ 8.0\n"
     ]
    }
   ],
   "source": [
    "def efetuarCompra(total, dinheiro):\n",
    "    resposta = \"\"\n",
    "    troco = dinheiro - total\n",
    "\n",
    "    if dinheiro < total:\n",
    "        resposta = \"Dinheiro insuficiente para realizar a compra.\"\n",
    "    else:\n",
    "        resposta = f\"Dinheiro: R$ {dinheiro}\\nTroco: R$ {troco}\"\n",
    "        \n",
    "    return resposta\n",
    "\n",
    "valor = float(input(\"Informe o valor para o Produto 1 (Digite 0 para sair): \"))\n",
    "total = 0\n",
    "i = 2\n",
    "while valor != 0:\n",
    "    total = total + valor\n",
    "    valor = float(input(\"Informe o valor para o Produto %s (Digite 0 para sair): \" %(i)))\n",
    "    i += 1\n",
    "\n",
    "dinheiro = float(input(\"Total: R$ %s\\nInforme o dinheiro para efetuar a compra: \" %(total)))\n",
    "\n",
    "resultado = efetuarCompra(total, dinheiro)\n",
    "\n",
    "print(resultado)"
   ]
  },
  {
   "cell_type": "markdown",
   "metadata": {},
   "source": [
    "#### 23. Foi feita uma estatística em cinco cidades brasileiras para coletar dados sobre acidentes de trânsito. Foram obtidos os seguintes dados:<br>\n",
    "- Código da cidade;<br>\n",
    "- Número de veículos de passeio (em 1999);<br>\n",
    "- Número de acidentes de trânsito com vítimas (em 1999).<br>\n",
    "Deseja-se saber:<br>\n",
    "- Qual o maior e menor índice de acidentes de transito e a que cidade pertence;<br>\n",
    "- Qual a média de veículos nas cinco cidades juntas;<br>\n",
    "- Qual a média de acidentes de trânsito nas cidades com menos de 2.000 veículos de passeio."
   ]
  },
  {
   "cell_type": "code",
   "execution_count": 114,
   "metadata": {},
   "outputs": [
    {
     "name": "stdout",
     "output_type": "stream",
     "text": [
      "cidade_2 tem o maior índice de acidentes: 43\n",
      "cidade_3 tem o menor índice de acidentes: 2\n",
      "Média de veículos nas cinco cidades juntas: 23578.2\n",
      "Média de acidentes de trânsito nas cidades com menos de 2.000 veículos de passeio: 611.0\n"
     ]
    }
   ],
   "source": [
    "cidades = {\n",
    "    'cidade_1':{'veiculos':3213, 'acidentes':10},\n",
    "    'cidade_2':{'veiculos':23213, 'acidentes':43},\n",
    "    'cidade_3':{'veiculos':992, 'acidentes':2},\n",
    "    'cidade_4':{'veiculos':230, 'acidentes':7},\n",
    "    'cidade_5':{'veiculos':90243, 'acidentes':30}\n",
    "}\n",
    "\n",
    "temp_maior = 0\n",
    "temp_menor = float('inf')\n",
    "maior_indice = \"\"\n",
    "menor_indice = \"\"\n",
    "soma_veiculos = 0\n",
    "media_acid_veic = 0\n",
    "count = 0\n",
    "for cidade in cidades:\n",
    "    if temp_maior < cidades[cidade]['acidentes']:\n",
    "        temp_maior = cidades[cidade]['acidentes']\n",
    "        maior_indice = f\"{cidade} tem o maior índice de acidentes: {cidades[cidade]['acidentes']}\"\n",
    "    \n",
    "    if temp_menor > cidades[cidade]['acidentes']:\n",
    "        temp_menor = cidades[cidade]['acidentes']\n",
    "        menor_indice = f\"{cidade} tem o menor índice de acidentes: {cidades[cidade]['acidentes']}\"\n",
    "        \n",
    "    if cidades[cidade]['veiculos'] < 2000:\n",
    "        media_acid_veic = media_acid_veic + cidades[cidade]['veiculos']\n",
    "        count = count + 1\n",
    "\n",
    "    soma_veiculos = soma_veiculos + cidades[cidade]['veiculos']\n",
    "\n",
    "media_veiculos = soma_veiculos/5\n",
    "\n",
    "print(maior_indice)\n",
    "print(menor_indice)\n",
    "print(\"Média de veículos nas cinco cidades juntas: %s\" %(media_veiculos))\n",
    "print(\"Média de acidentes de trânsito nas cidades com menos de 2.000 veículos de passeio: %s\" %(media_acid_veic/count))"
   ]
  },
  {
   "cell_type": "markdown",
   "metadata": {},
   "source": [
    "#### 24. Faça um programa que receba o valor de uma dívida e mostre uma tabela com os seguintes dados: valor da dívida, valor dos juros, quantidade de parcelas e valor da parcela.<br>\n",
    "Os juros e a quantidade de parcelas seguem a tabela abaixo:<br>\n",
    "Quantidade de Parcelas % de Juros sobre o valor inicial da dívida<br>\n",
    "1 0<br>\n",
    "3 10<br>\n",
    "6 15<br>\n",
    "9 20<br>\n",
    "12 25<br>\n",
    "Exemplo de saída do programa:<br>\n",
    "Valor da Dívida Valor dos Juros Quantidade de Parcelas Valor da Parcela<br>\n",
    "R$ 1.000,00 0 1 R$ 1.000,00<br>\n",
    "R$ 1.100,00 100 3 R$ 366,00<br>\n",
    "R$ 1.150,00 150 6 R$ 191,67"
   ]
  },
  {
   "cell_type": "code",
   "execution_count": 20,
   "metadata": {},
   "outputs": [
    {
     "name": "stdout",
     "output_type": "stream",
     "text": [
      "Informe o valor da sua dívida: 1000\n",
      "Valor da Dívida: R$ 1000.0 \n",
      "Valor dos Juros: 0.0 \n",
      "Quantidade de Parcelas 1 \n",
      "Valor da Parcela R$ 1000.00\n",
      "\n",
      "Valor da Dívida: R$ 1100.0 \n",
      "Valor dos Juros: 100.0 \n",
      "Quantidade de Parcelas 3 \n",
      "Valor da Parcela R$ 366.67\n",
      "\n",
      "Valor da Dívida: R$ 1150.0 \n",
      "Valor dos Juros: 150.0 \n",
      "Quantidade de Parcelas 6 \n",
      "Valor da Parcela R$ 191.67\n",
      "\n",
      "Valor da Dívida: R$ 1200.0 \n",
      "Valor dos Juros: 200.0 \n",
      "Quantidade de Parcelas 9 \n",
      "Valor da Parcela R$ 133.33\n",
      "\n",
      "Valor da Dívida: R$ 1250.0 \n",
      "Valor dos Juros: 250.0 \n",
      "Quantidade de Parcelas 12 \n",
      "Valor da Parcela R$ 104.17\n",
      "\n"
     ]
    }
   ],
   "source": [
    "divida_inicial = float(input(\"Informe o valor da sua dívida: \"))\n",
    "\n",
    "def calculaJuros(divida, juros):\n",
    "    return divida * (juros/100)\n",
    "\n",
    "for i in range(0, 5):\n",
    "    if i == 0:\n",
    "        juros = 0\n",
    "    elif i == 1:\n",
    "        juros = 10\n",
    "    else:\n",
    "        juros += 5\n",
    "\n",
    "    valor_juros = calculaJuros(divida_inicial, juros)\n",
    "    divida_calculada = divida_inicial + valor_juros\n",
    "\n",
    "    if i == 0:\n",
    "        qtd_parcela = 1\n",
    "    else:\n",
    "        qtd_parcela = i * 3\n",
    "    if qtd_parcela != 0:\n",
    "        valor_parcela = divida_calculada / qtd_parcela\n",
    "    else:\n",
    "        valor_parcela = divida_calculada\n",
    "    print(\"Valor da Dívida: R$ %s \\nValor dos Juros: %s \\nQuantidade de Parcelas %s \\nValor da Parcela R$ %.2f\\n\" %(divida_calculada, valor_juros, qtd_parcela, valor_parcela))"
   ]
  },
  {
   "cell_type": "markdown",
   "metadata": {},
   "source": [
    "#### 25. Faça um programa que mostre os n termos da Série a seguir:<br>\n",
    "S = 1/1 + 2/3 + 3/5 + 4/7 + 5/9 + ... + n/m.<br>\n",
    "Imprima no final a soma da série."
   ]
  },
  {
   "cell_type": "code",
   "execution_count": 115,
   "metadata": {},
   "outputs": [
    {
     "name": "stdout",
     "output_type": "stream",
     "text": [
      "Quantidade de termos desejada: 3\n",
      "S = 1/1 + 2/3 + 3/5\n",
      "Soma da série: 2.2666666666666666\n"
     ]
    }
   ],
   "source": [
    "termo = int(input(\"Quantidade de termos desejada: \"))\n",
    "\n",
    "saida = \"S = \"\n",
    "resultado = 0\n",
    "m = 1\n",
    "for n in range(1, termo + 1):\n",
    "    resultado += n / m\n",
    "    saida += str(n) + \"/\" + str(m)\n",
    "\n",
    "    if n != termo:\n",
    "        saida += \" + \"\n",
    "    m += 2\n",
    "\n",
    "print(saida)\n",
    "print(\"Soma da série: %s\" %(resultado))"
   ]
  },
  {
   "cell_type": "code",
   "execution_count": null,
   "metadata": {},
   "outputs": [],
   "source": []
  }
 ],
 "metadata": {
  "kernelspec": {
   "display_name": "Python 3",
   "language": "python",
   "name": "python3"
  },
  "language_info": {
   "codemirror_mode": {
    "name": "ipython",
    "version": 3
   },
   "file_extension": ".py",
   "mimetype": "text/x-python",
   "name": "python",
   "nbconvert_exporter": "python",
   "pygments_lexer": "ipython3",
   "version": "3.6.5"
  }
 },
 "nbformat": 4,
 "nbformat_minor": 2
}
