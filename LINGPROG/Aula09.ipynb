{
 "cells": [
  {
   "cell_type": "code",
   "execution_count": 2,
   "metadata": {},
   "outputs": [
    {
     "name": "stdout",
     "output_type": "stream",
     "text": [
      "6\n"
     ]
    }
   ],
   "source": [
    "from functools import partial\n",
    "\n",
    "def soma (a, b, c):\n",
    "    return a + b + c\n",
    "\n",
    "soma1 = partial(soma, 1)\n",
    "soma12 = partial(soma1, 2)\n",
    "\n",
    "print(soma12(3))"
   ]
  },
  {
   "cell_type": "code",
   "execution_count": 3,
   "metadata": {},
   "outputs": [
    {
     "name": "stdout",
     "output_type": "stream",
     "text": [
      "6\n"
     ]
    }
   ],
   "source": [
    "from functools import partial\n",
    "from inspect import signature\n",
    "def curry (f):\n",
    "    def aux (x):\n",
    "        if len(signature(f).parameters) == 1:\n",
    "            return f(x)\n",
    "        return curry (partial(f, x))\n",
    "    return aux\n",
    "\n",
    "@curry\n",
    "def soma(a, b, c):\n",
    "    return a + b + c\n",
    "\n",
    "print(soma(1)(2)(3))"
   ]
  },
  {
   "cell_type": "code",
   "execution_count": 6,
   "metadata": {},
   "outputs": [
    {
     "name": "stdout",
     "output_type": "stream",
     "text": [
      "11\n"
     ]
    }
   ],
   "source": [
    "from functools import partial\n",
    "from inspect import signature\n",
    "\n",
    "def curry (f):\n",
    "    def aux (x):\n",
    "        if len(signature(f).parameters) == 1:\n",
    "            return f(x)\n",
    "        return curry (partial(f, x))\n",
    "    return aux\n",
    "\n",
    "@curry\n",
    "def funcao (x, y):\n",
    "    return x + y ** 2\n",
    "\n",
    "# funcao_2 = partial (funcao, 2)\n",
    "\n",
    "print(funcao(2)(3))"
   ]
  },
  {
   "cell_type": "code",
   "execution_count": null,
   "metadata": {},
   "outputs": [],
   "source": [
    "    "
   ]
  }
 ],
 "metadata": {
  "kernelspec": {
   "display_name": "Python 3",
   "language": "python",
   "name": "python3"
  },
  "language_info": {
   "codemirror_mode": {
    "name": "ipython",
    "version": 3
   },
   "file_extension": ".py",
   "mimetype": "text/x-python",
   "name": "python",
   "nbconvert_exporter": "python",
   "pygments_lexer": "ipython3",
   "version": "3.6.5"
  }
 },
 "nbformat": 4,
 "nbformat_minor": 2
}
