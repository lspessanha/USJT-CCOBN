{
 "cells": [
  {
   "cell_type": "markdown",
   "metadata": {},
   "source": [
    "## Nota: Cada exercício a seguir deve ser resolvido de três formas diferentes:\n",
    "### 1. Sem usar a notação com @\n",
    "### 2. Usando a notação com @, implementando os decorators por meio de funções\n",
    "### 3. Usando a notação com @, implementando os decorators por meio de classes"
   ]
  },
  {
   "cell_type": "markdown",
   "metadata": {},
   "source": [
    "#### 1. Escreva uma função que calcula a soma dos n primeiros números naturais, dado que n é recebido como parâmetro. Escreva um decorator que garanta que o valor recebido é natural (maior ou igual a 1)."
   ]
  },
  {
   "cell_type": "code",
   "execution_count": 1,
   "metadata": {},
   "outputs": [
    {
     "name": "stdout",
     "output_type": "stream",
     "text": [
      "120\n",
      "15\n",
      "O número 0 é menor que 1\n",
      "None\n"
     ]
    }
   ],
   "source": [
    "# 1. Sem usar a notação com @\n",
    "def valida(f):\n",
    "    def soma_n_primeiros(n):\n",
    "        return print(f\"O número {n} é menor que 1\") if n < 1 else f(n)\n",
    "    return soma_n_primeiros\n",
    "\n",
    "def soma(n, soma = 0):\n",
    "    for x in range(n + 1):\n",
    "        soma += x\n",
    "    return soma\n",
    "\n",
    "soma = valida(soma)\n",
    "print(soma(15))\n",
    "print(soma(5))\n",
    "print(soma(0))"
   ]
  },
  {
   "cell_type": "code",
   "execution_count": 2,
   "metadata": {},
   "outputs": [
    {
     "name": "stdout",
     "output_type": "stream",
     "text": [
      "120\n",
      "15\n",
      "O número 0 é menor que 1\n",
      "None\n"
     ]
    }
   ],
   "source": [
    "# 2. Usando a notação com @, implementando os decorators por meio de funções\n",
    "def valida2(f):\n",
    "    def soma_n_primeiros(n):\n",
    "        return print(f\"O número {n} é menor que 1\") if n < 1 else f(n)\n",
    "    return soma_n_primeiros\n",
    "\n",
    "@valida2\n",
    "def soma2(n, soma = 0):\n",
    "    for x in range(n + 1):\n",
    "        soma += x\n",
    "    return soma\n",
    "\n",
    "print(soma2(15))\n",
    "print(soma2(5))\n",
    "print(soma2(0))"
   ]
  },
  {
   "cell_type": "code",
   "execution_count": 3,
   "metadata": {},
   "outputs": [
    {
     "name": "stdout",
     "output_type": "stream",
     "text": [
      "120\n",
      "15\n",
      "O número 0 é menor que 1\n",
      "None\n"
     ]
    }
   ],
   "source": [
    "# 3. Usando a notação com @, implementando os decorators por meio de classes\n",
    "class Validar:\n",
    "    def __init__(self, f):\n",
    "        self.f = f\n",
    "    def __call__(self, n):\n",
    "        return print(f\"O número {n} é menor que 1\") if n < 1 else self.f(n)\n",
    "\n",
    "@Validar\n",
    "def soma3(n, soma = 0):\n",
    "    for x in range(n + 1):\n",
    "        soma += x\n",
    "    return soma\n",
    "\n",
    "print(soma3(15))\n",
    "print(soma3(5))\n",
    "print(soma3(0))"
   ]
  },
  {
   "cell_type": "markdown",
   "metadata": {},
   "source": [
    "#### 2. Escreva uma função que recebe uma lista de triplas e, para cada uma, gera uma equação do segundo grau considerando que os elementos da tripla são os coefcientes usualmente denominados a, b e c da equação. Note que a sua função deverá devolver uma lista de equações. A geração das equações deve ser feita por meio de, evidentemente, decorators."
   ]
  },
  {
   "cell_type": "code",
   "execution_count": 4,
   "metadata": {},
   "outputs": [
    {
     "name": "stdout",
     "output_type": "stream",
     "text": [
      "3x^2 + 3x + 3\n",
      "6x^2 + 6x + 6\n",
      "2x^2 + 2x + 2\n",
      "[None, None, None]\n"
     ]
    }
   ],
   "source": [
    "# 1. Sem usar a notação com @\n",
    "def retorna_equacoes(f, lista_equacoes = []):\n",
    "    def decorator(lista):\n",
    "        return [lista_equacoes.append(f(equacao)) for equacao in lista]\n",
    "    return decorator\n",
    "\n",
    "def funcao(lista):\n",
    "    return print(f\"{str(lista)}x^2 + {str(lista)}x + {str(lista)}\")\n",
    "\n",
    "funcao = retorna_equacoes(funcao)\n",
    "print(funcao([3,6,2]))"
   ]
  },
  {
   "cell_type": "code",
   "execution_count": 5,
   "metadata": {},
   "outputs": [
    {
     "name": "stdout",
     "output_type": "stream",
     "text": [
      "4x^2 + 4x + 4\n",
      "7x^2 + 7x + 7\n",
      "3x^2 + 3x + 3\n",
      "[None, None, None]\n"
     ]
    }
   ],
   "source": [
    "# 2. Usando a notação com @, implementando os decorators por meio de funções\n",
    "def retorna_equacoes2(f, lista_equacoes = []):\n",
    "    def decorator(lista):\n",
    "        return [lista_equacoes.append(f(equacao)) for equacao in lista]\n",
    "    return decorator\n",
    "\n",
    "@retorna_equacoes2\n",
    "def funcao2(lista):\n",
    "    return print(f\"{str(lista)}x^2 + {str(lista)}x + {str(lista)}\")\n",
    "\n",
    "print(funcao2([4,7,3]))"
   ]
  },
  {
   "cell_type": "code",
   "execution_count": 6,
   "metadata": {},
   "outputs": [
    {
     "name": "stdout",
     "output_type": "stream",
     "text": [
      "5x^2 + 5x + 5\n",
      "8x^2 + 8x + 8\n",
      "4x^2 + 4x + 4\n",
      "[None, None, None]\n"
     ]
    }
   ],
   "source": [
    "# 3. Usando a notação com @, implementando os decorators por meio de classes\n",
    "class Equacao:\n",
    "    def __init__(self, f):\n",
    "        self.f = f\n",
    "        self.lista_equacoes = []\n",
    "    def __call__(self, lista):\n",
    "        return [self.lista_equacoes.append(self.f(equacao)) for equacao in lista]\n",
    "    \n",
    "@Equacao\n",
    "def funcao3(lista):\n",
    "    return print(f\"{str(lista)}x^2 + {str(lista)}x + {str(lista)}\")\n",
    "\n",
    "print(funcao3([5,8,4]))"
   ]
  },
  {
   "cell_type": "markdown",
   "metadata": {},
   "source": [
    "#### 3. Escreva uma função que exibe uma lista recebida como parâmetro. Ela deve, contudo, ordenar a lista antes. A ordenação deve ser feita por meio de um decorator."
   ]
  },
  {
   "cell_type": "code",
   "execution_count": 7,
   "metadata": {},
   "outputs": [
    {
     "name": "stdout",
     "output_type": "stream",
     "text": [
      "[0, 1, 2, 3, 4, 5, 6, 7]\n",
      "None\n"
     ]
    }
   ],
   "source": [
    "# 1. Sem usar a notação com @\n",
    "def order_list(f):\n",
    "    def decorator(list):\n",
    "        return f(sorted(list))\n",
    "    return decorator\n",
    "\n",
    "def show_list(list):\n",
    "    print(list)\n",
    "\n",
    "show_list = order_list(show_list)\n",
    "print(show_list([4,7,1,0,5,2,6,3]))"
   ]
  },
  {
   "cell_type": "code",
   "execution_count": 8,
   "metadata": {},
   "outputs": [
    {
     "name": "stdout",
     "output_type": "stream",
     "text": [
      "[0, 1, 2, 3, 4, 5, 6, 7]\n",
      "None\n"
     ]
    }
   ],
   "source": [
    "# 2. Usando a notação com @, implementando os decorators por meio de funções\n",
    "def order_list2(f):\n",
    "    def decorator(list):\n",
    "        return f(sorted(list))\n",
    "    return decorator\n",
    "\n",
    "@order_list2\n",
    "def show_list2(list):\n",
    "    print(list)\n",
    "\n",
    "print(show_list2([4,7,1,0,5,2,6,3]))"
   ]
  },
  {
   "cell_type": "code",
   "execution_count": 9,
   "metadata": {},
   "outputs": [
    {
     "name": "stdout",
     "output_type": "stream",
     "text": [
      "[0, 1, 2, 3, 4, 5, 6, 7]\n",
      "None\n"
     ]
    }
   ],
   "source": [
    "# 3. Usando a notação com @, implementando os decorators por meio de classes\n",
    "class Order:\n",
    "    def __init__(self, f):\n",
    "        self.f = f;\n",
    "    def __call__(self, list):\n",
    "        return self.f(sorted(list))\n",
    "\n",
    "@Order\n",
    "def show_list3(list):\n",
    "    print(list)\n",
    "\n",
    "print(show_list3([4,7,1,0,5,2,6,3]))"
   ]
  },
  {
   "cell_type": "markdown",
   "metadata": {},
   "source": [
    "#### 4. Escreva uma classe para representar um café que, a princípio, tem somente preço.\n",
    "##### Um cafezinho custa 5 reais. Escreva classes para representar os adicionais: palitos de chocolate (0,50 cents), espuma de leite (0,20 cents), caramelo (0,10 cents) e canela (0,30 cents). Crie um objeto café e, a seguir, faça um menuzinho em que o usuário pode ficar indefinidamente escolhendo adicionais: 1 para chocolate, 2 para espuma de leite, 3 para caramelo e 4 para canela. A cada adicional escolhido, decore o objeto café. No fnal, mostre o preço total."
   ]
  },
  {
   "cell_type": "code",
   "execution_count": 10,
   "metadata": {
    "scrolled": false
   },
   "outputs": [
    {
     "name": "stdout",
     "output_type": "stream",
     "text": [
      "##### ESTARBÃQUIS CÓFI ##### \n",
      "\n",
      "Selecione as opções abaixo para adicionais no seu café: \n",
      "1 - Adicionar Palitos de chocolate \n",
      "2 - Adicionar Espuma de leite \n",
      "3 - Adicionar Caramelo \n",
      "4 - Adicionar Canela \n",
      "0 - Sair \n",
      "1\n",
      "Aguarde, estamos adicionando palitos de chocolate no seu café!\n",
      "...\n",
      "Palitos de chocolate adicionado com sucesso!!!\n",
      "\n",
      "##### ESTARBÃQUIS CÓFI ##### \n",
      "\n",
      "Selecione as opções abaixo para adicionais no seu café: \n",
      "1 - Adicionar Palitos de chocolate \n",
      "2 - Adicionar Espuma de leite \n",
      "3 - Adicionar Caramelo \n",
      "4 - Adicionar Canela \n",
      "0 - Sair \n",
      "2\n",
      "Aguarde, estamos adicionando espuma de leite no seu café!\n",
      "...\n",
      "Espuma de leite adicionado com sucesso!!!\n",
      "\n",
      "##### ESTARBÃQUIS CÓFI ##### \n",
      "\n",
      "Selecione as opções abaixo para adicionais no seu café: \n",
      "1 - Adicionar Palitos de chocolate \n",
      "2 - Adicionar Espuma de leite \n",
      "3 - Adicionar Caramelo \n",
      "4 - Adicionar Canela \n",
      "0 - Sair \n",
      "3\n",
      "Aguarde, estamos adicionando caramelo no seu café!\n",
      "...\n",
      "Caramelo adicionado com sucesso!!!\n",
      "\n",
      "##### ESTARBÃQUIS CÓFI ##### \n",
      "\n",
      "Selecione as opções abaixo para adicionais no seu café: \n",
      "1 - Adicionar Palitos de chocolate \n",
      "2 - Adicionar Espuma de leite \n",
      "3 - Adicionar Caramelo \n",
      "4 - Adicionar Canela \n",
      "0 - Sair \n",
      "4\n",
      "Aguarde, estamos adicionando canela no seu café!\n",
      "...\n",
      "Canela adicionado com sucesso!!!\n",
      "\n",
      "##### ESTARBÃQUIS CÓFI ##### \n",
      "\n",
      "Selecione as opções abaixo para adicionais no seu café: \n",
      "1 - Adicionar Palitos de chocolate \n",
      "2 - Adicionar Espuma de leite \n",
      "3 - Adicionar Caramelo \n",
      "4 - Adicionar Canela \n",
      "0 - Sair \n",
      "0\n",
      "Preço final do café: 6.1\n"
     ]
    }
   ],
   "source": [
    "# 1. Sem usar a notação com @\n",
    "# cafe = 5.0\n",
    "# palito_chocolate = 0.5\n",
    "# espuma_leite = 0.2\n",
    "# caramelo = 0.1\n",
    "# canela = 0.3\n",
    "\n",
    "def cafe():\n",
    "    return 5.0\n",
    "\n",
    "def palito_chocolate(f):\n",
    "    def decorator():\n",
    "        return f() + 0.5\n",
    "    return decorator\n",
    "\n",
    "def espuma_leite(f):\n",
    "    def decorator():\n",
    "        return f() + 0.2\n",
    "    return decorator \n",
    "\n",
    "def caramelo(f):\n",
    "    def decorator():\n",
    "        return f() + 0.1\n",
    "    return decorator \n",
    "\n",
    "def canela(f):\n",
    "    def decorator():\n",
    "        return f() + 0.3\n",
    "    return decorator\n",
    "\n",
    "def menu():\n",
    "    return int(\n",
    "                input(\n",
    "                    \"##### ESTARBÃQUIS CÓFI ##### \\n\\n\" +\n",
    "                    \"Selecione as opções abaixo para adicionais no seu café: \\n\" +\n",
    "                    \"1 - Adicionar Palitos de chocolate \\n\" +\n",
    "                    \"2 - Adicionar Espuma de leite \\n\" +\n",
    "                    \"3 - Adicionar Caramelo \\n\" +\n",
    "                    \"4 - Adicionar Canela \\n\" +\n",
    "                    \"0 - Sair \\n\"\n",
    "                )\n",
    "            )\n",
    "\n",
    "opcao = menu()\n",
    "while (opcao != 0):\n",
    "    if opcao == 1:\n",
    "        print(\"Aguarde, estamos adicionando palitos de chocolate no seu café!\")\n",
    "        cafe = palito_chocolate(cafe)\n",
    "        print(\"...\\nPalitos de chocolate adicionado com sucesso!!!\\n\")\n",
    "    if opcao == 2:\n",
    "        print(\"Aguarde, estamos adicionando espuma de leite no seu café!\")\n",
    "        cafe = espuma_leite(cafe)\n",
    "        print(\"...\\nEspuma de leite adicionado com sucesso!!!\\n\")\n",
    "    if opcao == 3:\n",
    "        print(\"Aguarde, estamos adicionando caramelo no seu café!\")\n",
    "        cafe = caramelo(cafe)\n",
    "        print(\"...\\nCaramelo adicionado com sucesso!!!\\n\")\n",
    "    if opcao == 4:\n",
    "        print(\"Aguarde, estamos adicionando canela no seu café!\")\n",
    "        cafe = canela(cafe)\n",
    "        print(\"...\\nCanela adicionado com sucesso!!!\\n\")\n",
    "    opcao = menu()\n",
    "print(\"Preço final do café:\", cafe())"
   ]
  },
  {
   "cell_type": "code",
   "execution_count": 11,
   "metadata": {},
   "outputs": [],
   "source": [
    "# 2. Usando a notação com @, implementando os decorators por meio de funções"
   ]
  },
  {
   "cell_type": "code",
   "execution_count": 12,
   "metadata": {},
   "outputs": [],
   "source": [
    "# 3. Usando a notação com @, implementando os decorators por meio de classes"
   ]
  }
 ],
 "metadata": {
  "kernelspec": {
   "display_name": "Python 3",
   "language": "python",
   "name": "python3"
  },
  "language_info": {
   "codemirror_mode": {
    "name": "ipython",
    "version": 3
   },
   "file_extension": ".py",
   "mimetype": "text/x-python",
   "name": "python",
   "nbconvert_exporter": "python",
   "pygments_lexer": "ipython3",
   "version": "3.6.5"
  }
 },
 "nbformat": 4,
 "nbformat_minor": 2
}
