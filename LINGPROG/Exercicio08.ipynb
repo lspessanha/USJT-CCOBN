{
 "cells": [
  {
   "cell_type": "markdown",
   "metadata": {},
   "source": [
    "## Nota: Cada exercício a seguir deve ser resolvido de três formas diferentes:\n",
    "#### 1. Sem usar a notação com @\n",
    "#### 2. Usando a notação com @, implementando os decorators por meio de funções\n",
    "#### 3. Usando a notação com @, implementando os decorators por meio de classes"
   ]
  },
  {
   "cell_type": "markdown",
   "metadata": {},
   "source": [
    "#### 1. Escreva uma função que calcula a soma dos n primeiros números naturais, dado que n é recebido como parâmetro. Escreva um decorator que garanta que o valor recebido é natural (maior ou igual a 1)."
   ]
  },
  {
   "cell_type": "code",
   "execution_count": null,
   "metadata": {},
   "outputs": [],
   "source": []
  },
  {
   "cell_type": "markdown",
   "metadata": {},
   "source": [
    "#### 2. Escreva uma função que recebe uma lista de triplas e, para cada uma, gera uma equação do segundo grau considerando que os elementos da tripla são os coefcientes usualmente denominados a, b e c da equação. Note que a sua função deverá devolver uma lista de equações. A geração das equações deve ser feita por meio de, evidentemente, decorators."
   ]
  },
  {
   "cell_type": "code",
   "execution_count": null,
   "metadata": {},
   "outputs": [],
   "source": []
  },
  {
   "cell_type": "markdown",
   "metadata": {},
   "source": [
    "#### 3. Escreva uma função que exibe uma lista recebida como parâmetro. Ela deve, contudo, ordenar a lista antes. A ordenação deve ser feita por meio de um decorator."
   ]
  },
  {
   "cell_type": "code",
   "execution_count": null,
   "metadata": {},
   "outputs": [],
   "source": []
  }
 ],
 "metadata": {
  "kernelspec": {
   "display_name": "Python 3",
   "language": "python",
   "name": "python3"
  },
  "language_info": {
   "codemirror_mode": {
    "name": "ipython",
    "version": 3
   },
   "file_extension": ".py",
   "mimetype": "text/x-python",
   "name": "python",
   "nbconvert_exporter": "python",
   "pygments_lexer": "ipython3",
   "version": "3.6.5"
  }
 },
 "nbformat": 4,
 "nbformat_minor": 2
}
