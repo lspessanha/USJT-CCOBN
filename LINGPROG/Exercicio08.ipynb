{
 "cells": [
  {
   "cell_type": "markdown",
   "metadata": {},
   "source": [
    "## Nota: Cada exercício a seguir deve ser resolvido de três formas diferentes:\n",
    "### 1. Sem usar a notação com @\n",
    "### 2. Usando a notação com @, implementando os decorators por meio de funções\n",
    "### 3. Usando a notação com @, implementando os decorators por meio de classes"
   ]
  },
  {
   "cell_type": "markdown",
   "metadata": {},
   "source": [
    "#### 1. Escreva uma função que calcula a soma dos n primeiros números naturais, dado que n é recebido como parâmetro. Escreva um decorator que garanta que o valor recebido é natural (maior ou igual a 1)."
   ]
  },
  {
   "cell_type": "code",
   "execution_count": 1,
   "metadata": {},
   "outputs": [
    {
     "name": "stdout",
     "output_type": "stream",
     "text": [
      "15\n",
      "10\n",
      "6\n"
     ]
    }
   ],
   "source": [
    "def soma(n):\n",
    "    soma = 0\n",
    "    for x in range(n+1):\n",
    "        soma += x\n",
    "    return soma\n",
    "# 5 + 4 + 3 + 2 + 1\n",
    "\n",
    "print(soma(5))\n",
    "print(soma(4))\n",
    "print(soma(3))"
   ]
  },
  {
   "cell_type": "markdown",
   "metadata": {},
   "source": [
    "#### 2. Escreva uma função que recebe uma lista de triplas e, para cada uma, gera uma equação do segundo grau considerando que os elementos da tripla são os coefcientes usualmente denominados a, b e c da equação. Note que a sua função deverá devolver uma lista de equações. A geração das equações deve ser feita por meio de, evidentemente, decorators."
   ]
  },
  {
   "cell_type": "code",
   "execution_count": null,
   "metadata": {},
   "outputs": [],
   "source": []
  },
  {
   "cell_type": "markdown",
   "metadata": {},
   "source": [
    "#### 3. Escreva uma função que exibe uma lista recebida como parâmetro. Ela deve, contudo, ordenar a lista antes. A ordenação deve ser feita por meio de um decorator."
   ]
  },
  {
   "cell_type": "code",
   "execution_count": null,
   "metadata": {},
   "outputs": [],
   "source": []
  },
  {
   "cell_type": "markdown",
   "metadata": {},
   "source": [
    "#### 4. Escreva uma classe para representar um café que, a princípio, tem somente preço.\n",
    "##### Um cafezinho custa 5 reais. Escreva classes para representar os adicionais: palitos de chocolate (0,50 cents), espuma de leite (0,20 cents), caramelo (0,10 cents) e canela (0,30 cents). Crie um objeto café e, a seguir, faça um menuzinho em que o usuário pode fcar indefnidamente escolhendo adicionais: 1 para chocolate, 2 para espuma de leite, 3 para caramelo e 4 para canela. A cada adicional escolhido, decore o objeto café. No fnal, mostre o preço total."
   ]
  },
  {
   "cell_type": "code",
   "execution_count": null,
   "metadata": {},
   "outputs": [],
   "source": []
  }
 ],
 "metadata": {
  "kernelspec": {
   "display_name": "Python 3",
   "language": "python",
   "name": "python3"
  },
  "language_info": {
   "codemirror_mode": {
    "name": "ipython",
    "version": 3
   },
   "file_extension": ".py",
   "mimetype": "text/x-python",
   "name": "python",
   "nbconvert_exporter": "python",
   "pygments_lexer": "ipython3",
   "version": "3.6.5"
  }
 },
 "nbformat": 4,
 "nbformat_minor": 2
}
