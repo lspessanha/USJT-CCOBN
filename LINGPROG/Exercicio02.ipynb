{
 "cells": [
  {
   "cell_type": "markdown",
   "metadata": {},
   "source": [
    "## Listas\n",
    "#### 1 Crie um programa que recebe uma lista de números e\n",
    "- retorne o maior elemento\n",
    "- retorne a soma dos elementos\n",
    "- retorne o número de ocorrências do primeiro elemento da lista\n",
    "- retorne a média dos elementos\n",
    "- retorne o valor mais próximo da média dos elementos\n",
    "- retorne a soma dos elementos com valor negativo\n",
    "- retorne a quantidade de vizinhos iguais"
   ]
  },
  {
   "cell_type": "code",
   "execution_count": 87,
   "metadata": {},
   "outputs": [
    {
     "name": "stdout",
     "output_type": "stream",
     "text": [
      "Maior elemento: 10\n",
      "Soma dos elementos: 24\n",
      "Número de ocorrências do primeiro elemento da lista: 3\n",
      "Média dos elementos: 2.1818181818181817\n",
      "Valor mais próximo da média dos elementos: 2\n",
      "Soma dos elementos com valor negativo: -7\n",
      "Quantidade de vizinhos iguais: 2\n"
     ]
    }
   ],
   "source": [
    "lista = [3, 5, 1, 2, 4, 10, 3, 3, -1, -3, -3]\n",
    "maiorElemento = max(lista)\n",
    "somaElementos = sum(lista)\n",
    "ocorrenciaElemento = lista.count(lista[0])\n",
    "avgElementos = (sum(lista) / len(lista))\n",
    "\n",
    "minimoValor = float(\"inf\")\n",
    "for valor in lista:\n",
    "    if abs(valor - avgElementos) < minimoValor:\n",
    "        valorProximo = valor\n",
    "        minimoValor = abs(valor - avgElementos)\n",
    "\n",
    "listaNegativa = []\n",
    "for valor in lista:\n",
    "    if (valor < 0):\n",
    "        listaNegativa.append(valor)\n",
    "\n",
    "somaElementosNegativos = sum(listaNegativa)\n",
    "\n",
    "qtdVizinhosIguais = 0\n",
    "for valor, prox in zip(lista,lista[1::]):\n",
    "    if valor == prox:\n",
    "        qtdVizinhosIguais += 1\n",
    "\n",
    "print(\"Maior elemento:\", maiorElemento)\n",
    "print(\"Soma dos elementos:\", somaElementos)\n",
    "print(\"Número de ocorrências do primeiro elemento da lista:\", ocorrenciaElemento)\n",
    "print(\"Média dos elementos:\", avgElementos)\n",
    "print(\"Valor mais próximo da média dos elementos:\", valorProximo)\n",
    "print(\"Soma dos elementos com valor negativo:\", somaElementosNegativos)\n",
    "print(\"Quantidade de vizinhos iguais:\", qtdVizinhosIguais)"
   ]
  },
  {
   "cell_type": "markdown",
   "metadata": {},
   "source": [
    "#### 2 Faça um programa que receba duas listas e retorne True se são iguais ou False caso contrario.\n",
    "#### Duas listas são iguais se possuem os mesmos valores e na mesma ordem."
   ]
  },
  {
   "cell_type": "code",
   "execution_count": 99,
   "metadata": {},
   "outputs": [
    {
     "name": "stdout",
     "output_type": "stream",
     "text": [
      "Lista 1 e 2 são diferentes\n",
      "False\n"
     ]
    }
   ],
   "source": [
    "lista1 = [3, 2, 1]\n",
    "lista2 = [1, 2, 3]\n",
    "\n",
    "print(\"Lista 1 e 2 são iguais\") if lista1 == lista2 else print(\"Lista 1 e 2 são diferentes\")\n",
    "print(True) if lista1 == lista2 else print(False)"
   ]
  },
  {
   "cell_type": "markdown",
   "metadata": {},
   "source": [
    "#### 3 Faça um programa que receba duas listas e retorne True se têm os mesmos elementos ou False caso contrário Duas listas possuem os mesmos elementos quando são compostas pelos mesmos valores, mas não obrigatoriamente na mesma ordem."
   ]
  },
  {
   "cell_type": "code",
   "execution_count": 137,
   "metadata": {},
   "outputs": [
    {
     "name": "stdout",
     "output_type": "stream",
     "text": [
      "Lista 1 e 2 tem elementos iguais\n",
      "True\n"
     ]
    }
   ],
   "source": [
    "lista1 = [3, 2, 1]\n",
    "lista2 = [1, 2, 3]\n",
    "\n",
    "iguais = True\n",
    "if len(lista1) == len(lista2):\n",
    "    for valor in lista1:\n",
    "        if valor in lista2:\n",
    "            continue\n",
    "        else:\n",
    "            iguais = False\n",
    "else:\n",
    "    iguais = False\n",
    "\n",
    "print(\"Lista 1 e 2 tem elementos iguais\") if iguais else print(\"Lista 1 e 2 tem elementos diferentes\")\n",
    "print(iguais)"
   ]
  },
  {
   "cell_type": "markdown",
   "metadata": {},
   "source": [
    "#### 4 Faça um programa que percorre uma lista com o seguinte formato: \n",
    "##### [['Brasil', 'Italia', [10, 9]], ['Brasil', 'Espanha', [5, 7]], ['Italia', 'Espanha', [7,8]]]. \n",
    "Essa lista indica o número de faltas que cada time fez em cada jogo. Na lista acima, no jogo entre Brasil e Itália, o Brasil fez 10 faltas e a Itália fez 9.\n",
    "O programa deve imprimir na tela:\n",
    "- o total de faltas do campeonato\n",
    "- o time que fez mais faltas\n",
    "- o time que fez menos faltas"
   ]
  },
  {
   "cell_type": "code",
   "execution_count": 3,
   "metadata": {},
   "outputs": [
    {
     "name": "stdout",
     "output_type": "stream",
     "text": [
      "Total de faltas do campeonato: 46\n",
      "Time Italia fez mais faltas: 16\n",
      "Time Brasil fez menos faltas: 15\n"
     ]
    }
   ],
   "source": [
    "jogos = [['Brasil', 'Italia', [10, 9]], ['Brasil', 'Espanha', [5, 7]], ['Italia', 'Espanha', [7,8]]]\n",
    "\n",
    "qtdFaltas = []\n",
    "for valor in jogos:\n",
    "    qtdFaltas += valor[2]\n",
    "\n",
    "def quantidade_faltas(jogos):\n",
    "    faltasBrasil = 0\n",
    "    faltasItalia = 0\n",
    "    faltasEspanha = 0\n",
    "\n",
    "    for valor in jogos:\n",
    "        if 'Brasil' in valor:\n",
    "            faltasBrasil += valor[2][valor.index('Brasil')]\n",
    "        if 'Italia' in valor:\n",
    "            faltasItalia += valor[2][valor.index('Italia')]\n",
    "        if 'Espanha' in valor:\n",
    "            faltasEspanha += valor[2][valor.index('Espanha')]\n",
    "            \n",
    "    totalFaltas = [faltasBrasil] + [faltasItalia] + [faltasEspanha]\n",
    "    return totalFaltas\n",
    "\n",
    "def mais_faltas(jogos):\n",
    "    totalFaltas = quantidade_faltas(jogos)\n",
    "\n",
    "    if totalFaltas.index(max(totalFaltas)) == 0:\n",
    "        return ['Brasil', totalFaltas[0]]\n",
    "    elif totalFaltas.index(max(totalFaltas)) == 1:\n",
    "        return ['Italia', totalFaltas[1]]\n",
    "    else:\n",
    "        return ['Espanha', totalFaltas[2]]\n",
    "    \n",
    "def menos_faltas(jogos):\n",
    "    totalFaltas = quantidade_faltas(jogos)\n",
    "\n",
    "    if totalFaltas.index(min(totalFaltas)) == 0:\n",
    "        return ['Brasil', totalFaltas[0]]\n",
    "    elif totalFaltas.index(min(totalFaltas)) == 1:\n",
    "        return ['Italia', totalFaltas[1]]\n",
    "    else:\n",
    "        return ['Espanha', totalFaltas[2]]\n",
    "    \n",
    "\n",
    "maisFaltas = mais_faltas(jogos)\n",
    "menosFaltas = menos_faltas(jogos)\n",
    "\n",
    "print(\"Total de faltas do campeonato:\", sum(qtdFaltas))\n",
    "print(\"Time %s fez mais faltas: %s\" %(maisFaltas[0], maisFaltas[1]))\n",
    "print(\"Time %s fez menos faltas: %s\" %(menosFaltas[0], menosFaltas[1]))"
   ]
  },
  {
   "cell_type": "markdown",
   "metadata": {},
   "source": [
    "## Dicionários\n",
    "#### 5 Escreva um programa que conta a quantidade de vogais em uma string e armazena tal quantidade em um dicionário, onde a chave é a vogal considerada."
   ]
  },
  {
   "cell_type": "code",
   "execution_count": 14,
   "metadata": {},
   "outputs": [
    {
     "name": "stdout",
     "output_type": "stream",
     "text": [
      "{'a': 2, 'e': 1, 'i': 5, 'o': 1, 'u': 3}\n"
     ]
    }
   ],
   "source": [
    "string = \"Mussum Ipsum, cacilds vidis litro abertis\"\n",
    "dict = {'a':string.count('a'), 'e':string.count('e'), 'i':string.count('i'), 'o':string.count('o'), 'u':string.count('u')}\n",
    "\n",
    "print(dict)"
   ]
  },
  {
   "cell_type": "markdown",
   "metadata": {},
   "source": [
    "#### 6 Escreva um programa que lê̂ duas notas de vários alunos e armazena tais notas em um dicionário, onde a chave é o nome do aluno. A entrada de dados deve terminar quando for lida uma string vazia como nome. Escreva uma função que retorna a média do aluno, dado seu nome."
   ]
  },
  {
   "cell_type": "code",
   "execution_count": 39,
   "metadata": {},
   "outputs": [
    {
     "name": "stdout",
     "output_type": "stream",
     "text": [
      "Informe o nome do aluno (Deixe o nome em branco para sair): Carlos\n",
      "Informe a primeira nota do aluno Carlos: 5\n",
      "Informe a segunda nota do aluno Carlos: 5\n",
      "Informe o nome do aluno (Deixe o nome em branco para sair): Jubileu\n",
      "Informe a primeira nota do aluno Jubileu: 10\n",
      "Informe a segunda nota do aluno Jubileu: 5\n",
      "Informe o nome do aluno (Deixe o nome em branco para sair): Jaiminho\n",
      "Informe a primeira nota do aluno Jaiminho: 9\n",
      "Informe a segunda nota do aluno Jaiminho: 8\n",
      "Informe o nome do aluno (Deixe o nome em branco para sair): \n",
      "A média do aluno Carlos é de: 5.0\n",
      "A média do aluno Jubileu é de: 7.5\n",
      "A média do aluno Jaiminho é de: 8.5\n"
     ]
    }
   ],
   "source": [
    "dict = {}\n",
    "nota = 0.0\n",
    "aluno = \" \"\n",
    "while aluno != \"\":\n",
    "    aluno = str(input(\"Informe o nome do aluno (Deixe o nome em branco para sair): \"))\n",
    "    if (aluno != \"\"):\n",
    "        nota1 = float(input(\"Informe a primeira nota do aluno %s: \" %(aluno)))\n",
    "        nota2 = float(input(\"Informe a segunda nota do aluno %s: \" %(aluno)))\n",
    "        dict[aluno] = {'notas':[nota1, nota2]}\n",
    "\n",
    "for chave, valor in dict.items():\n",
    "    mediaNotas = (sum(valor['notas']) / len(valor['notas']))\n",
    "    print(\"A média do aluno %s é de: %s\" %(chave, mediaNotas))"
   ]
  },
  {
   "cell_type": "markdown",
   "metadata": {},
   "source": [
    "#### 7 Uma pista de Kart permite 10 voltas para cada um de 6 corredores. Escreva um programa que leia todos os tempos em segundos e os guarde em um dicionário, onde a chave é o nome do corredor. Ao fnal diga de quem foi a melhor volta da prova e em que volta; e ainda a classifcação fnal em ordem (1o o campeão). O campeão é o que tem a menor média de tempos."
   ]
  },
  {
   "cell_type": "code",
   "execution_count": 174,
   "metadata": {},
   "outputs": [
    {
     "name": "stdout",
     "output_type": "stream",
     "text": [
      "Melhor volta da corrida pelo corredor: Felipe na Volta 1 em 190s\n",
      "Classificação final do Kart:\n",
      "1o Lugar: Remilton com tempo médio de 238.6s.\n",
      "2o Lugar: Chumaquer com tempo médio de 239.5s.\n",
      "3o Lugar: Felipe com tempo médio de 242.7s.\n",
      "4o Lugar: Raiconem com tempo médio de 250.7s.\n",
      "5o Lugar: Micael com tempo médio de 266.3s.\n",
      "6o Lugar: Rubinho com tempo médio de 294.5s.\n"
     ]
    }
   ],
   "source": [
    "import sys\n",
    "\n",
    "corredor1 = {'Rubinho':{'Voltas':{'Volta 1':301, 'Volta 2':290, 'Volta 3':288, 'Volta 4':291, 'Volta 5':292, 'Volta 6':287, 'Volta 7':285, 'Volta 8':300, 'Volta 9':302, 'Volta 10':309}}} \n",
    "corredor2 = {'Chumaquer':{'Voltas':{'Volta 1':254, 'Volta 2':212, 'Volta 3':205, 'Volta 4':254, 'Volta 5':248, 'Volta 6':278, 'Volta 7':219, 'Volta 8':240, 'Volta 9':233, 'Volta 10':252}}}\n",
    "corredor3 = {'Remilton':{'Voltas':{'Volta 1':267, 'Volta 2':197, 'Volta 3':209, 'Volta 4':195, 'Volta 5':206, 'Volta 6':209, 'Volta 7':270, 'Volta 8':258, 'Volta 9':278, 'Volta 10':297}}}\n",
    "corredor4 = {'Micael':{'Voltas':{'Volta 1':254, 'Volta 2':288, 'Volta 3':239, 'Volta 4':242, 'Volta 5':228, 'Volta 6':289, 'Volta 7':261, 'Volta 8':288, 'Volta 9':295, 'Volta 10':279}}}\n",
    "corredor5 = {'Felipe':{'Voltas':{'Volta 1':190, 'Volta 2':215, 'Volta 3':224, 'Volta 4':266, 'Volta 5':222, 'Volta 6':239, 'Volta 7':253, 'Volta 8':300, 'Volta 9':252, 'Volta 10':266}}}\n",
    "corredor6 = {'Raiconem':{'Voltas':{'Volta 1':253, 'Volta 2':264, 'Volta 3':295, 'Volta 4':245, 'Volta 5':212, 'Volta 6':282, 'Volta 7':238, 'Volta 8':225, 'Volta 9':266, 'Volta 10':227}}}\n",
    "corrida_kart.update(corredor1)\n",
    "corrida_kart.update(corredor2)\n",
    "corrida_kart.update(corredor3)\n",
    "corrida_kart.update(corredor4)\n",
    "corrida_kart.update(corredor5)\n",
    "corrida_kart.update(corredor6)\n",
    "\n",
    "corredor_menor_tempo = sys.maxsize\n",
    "corredor_menor_tempo_nome = \"\"\n",
    "volta = \"\"\n",
    "for chave, valor in corrida_kart.items():\n",
    "    if corredor_menor_tempo > min(valor['Voltas'].values()):\n",
    "        corredor_menor_tempo = min(valor['Voltas'].values())\n",
    "        corredor_menor_tempo_nome = chave\n",
    "        volta = min(valor['Voltas'], key=valor['Voltas'].get)\n",
    "        \n",
    "def calcula_media(valores, tamanho):\n",
    "    return (sum(valores) / tamanho)\n",
    "\n",
    "tempo_final = {}\n",
    "for chave, valor in corrida_kart.items():\n",
    "    tempoMedio = calcula_media(valor['Voltas'].values(), len(valor['Voltas'].values()))\n",
    "    tempo_final.update({chave:tempoMedio})\n",
    "\n",
    "classificacao_final = sorted(tempo_final.items(), key=lambda elem: elem[1])\n",
    "\n",
    "print(\"Melhor volta da corrida pelo corredor: %s na %s em %ss\" %(corredor_menor_tempo_nome, volta, corredor_menor_tempo))\n",
    "print(\"Classificação final do Kart:\")\n",
    "i = 1\n",
    "for chave, valor in classificacao_final:\n",
    "    print(\"%so Lugar: %s com tempo médio de %ss.\" %(i, chave, valor))\n",
    "    i += 1"
   ]
  },
  {
   "cell_type": "markdown",
   "metadata": {},
   "source": [
    "#### 8 Escreva um programa para armazenar uma agenda de telefones em um dicionário.\n",
    "Cada pessoa pode ter um ou mais telefones e a chave do dicionário é o nome da pessoa.<br>\n",
    "Seu programa deve ter as seguintes funções:<br>\n",
    "incluirNovoNome – essa função acrescenta um novo nome na agenda, com um ou mais telefones. Ela deve receber como argumentos o nome e os telefones.<br>\n",
    "incluirTelefone – essa função acrescenta um telefone em um nome existente na agenda. Caso o nome não exista na agenda, você̂ deve perguntar se a pessoa deseja inclui-lo. Caso a resposta seja afirmativa, use a função anterior para incluir o novo nome.<br>\n",
    "excluirTelefone – essa função exclui um telefone de uma pessoa que já está na agenda. Se a pessoa tiver apenas um telefone, ela deve ser excluída da agenda.<br>\n",
    "excluirNome – essa função exclui uma pessoa da agenda.<br>\n",
    "consultarTelefone – essa função retorna os telefones de uma pessoa na agenda.<br>"
   ]
  },
  {
   "cell_type": "code",
   "execution_count": 348,
   "metadata": {},
   "outputs": [
    {
     "name": "stdout",
     "output_type": "stream",
     "text": [
      "Informe um nome: Carlos\n",
      "Informe seu telefone apenas em números (Digite apenas 0 pra sair):321\n",
      "Informe seu telefone apenas em números (Digite apenas 0 pra sair):0\n",
      "\n",
      "\n",
      "\n",
      "0\n",
      "Carlos\n",
      "{'Nome': {'Carlos': {'Telefones': [321]}}}\n",
      "\n",
      "\n",
      "Nome na agenda\n",
      "{'Nome': {'Carlos': {'Telefones': [321]}}}\n"
     ]
    }
   ],
   "source": [
    "agenda = {}\n",
    "def incluirNovoNome(nome = \"\", telefones = None):\n",
    "    if nome == \"\" and telefones == None:\n",
    "        nome = str(input(\"Informe um nome: \"))\n",
    "        agenda_telefone = {'Nome':{nome:{'Telefones':[]}}}\n",
    "    elif telefones == None:\n",
    "        agenda_telefone = {'Nome':{nome:{'Telefones':[]}}}\n",
    "    else:\n",
    "        agenda_telefone = {'Nome':{nome:{'Telefones':[telefones]}}}\n",
    "\n",
    "    if not agenda_telefone['Nome'][nome]['Telefones']:\n",
    "        while telefones != 0:\n",
    "            telefones = int(input(\"Informe seu telefone apenas em números (Digite apenas 0 pra sair):\"))\n",
    "            if telefones != 0:\n",
    "                agenda_telefone['Nome'][nome]['Telefones'].append(telefones)\n",
    "\n",
    "    return agenda_telefone\n",
    "\n",
    "def incluirTelefone(nome = \"\", agenda_telefone = None):\n",
    "    print(\"\")\n",
    "    print(\"\")\n",
    "    print(\"\")\n",
    "    print(nome)\n",
    "    print(agenda_telefone)\n",
    "    print(\"\")\n",
    "    print(\"\")\n",
    "    if nome == \"\":\n",
    "        print(\"Nome vazio\")\n",
    "        nome = incluirNovoNome()\n",
    "    else:\n",
    "        if nome in agenda_telefone['Nome']:\n",
    "            print(\"Nome na agenda\")\n",
    "            if telefones == 0:\n",
    "                while telefones != 0:\n",
    "                    telefones = int(input(\"Informe seu telefone apenas em números (Digite apenas 0 pra sair):\"))\n",
    "                    if telefones != 0:\n",
    "                        agenda_telefone['Nome'][nome]['Telefones'].append(telefones)\n",
    "        else:\n",
    "            print(\"Nome nao esta na agenda\")\n",
    "            nome = incluirNovoNome()\n",
    "            incluirTelefone(nome, agenda_telefone)\n",
    "    \n",
    "    return agenda_telefone\n",
    "            \n",
    "agenda = incluirNovoNome()\n",
    "agenda2 = incluirTelefone('Carlos', agenda)\n",
    "\n",
    "print(agenda2)"
   ]
  },
  {
   "cell_type": "code",
   "execution_count": null,
   "metadata": {},
   "outputs": [],
   "source": []
  },
  {
   "cell_type": "code",
   "execution_count": null,
   "metadata": {},
   "outputs": [],
   "source": []
  }
 ],
 "metadata": {
  "kernelspec": {
   "display_name": "Python 3",
   "language": "python",
   "name": "python3"
  },
  "language_info": {
   "codemirror_mode": {
    "name": "ipython",
    "version": 3
   },
   "file_extension": ".py",
   "mimetype": "text/x-python",
   "name": "python",
   "nbconvert_exporter": "python",
   "pygments_lexer": "ipython3",
   "version": "3.6.5"
  }
 },
 "nbformat": 4,
 "nbformat_minor": 2
}
