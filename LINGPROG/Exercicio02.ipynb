{
 "cells": [
  {
   "cell_type": "markdown",
   "metadata": {},
   "source": [
    "#### 1 Crie um programa que recebe uma lista de números e\n",
    "- retorne o maior elemento\n",
    "- retorne a soma dos elementos\n",
    "- retorne o número de ocorrências do primeiro elemento da lista\n",
    "- retorne a média dos elementos\n",
    "- retorne o valor mais próximo da média dos elementos\n",
    "- retorne a soma dos elementos com valor negativo\n",
    "- retorne a quantidade de vizinhos iguais"
   ]
  },
  {
   "cell_type": "code",
   "execution_count": 87,
   "metadata": {},
   "outputs": [
    {
     "name": "stdout",
     "output_type": "stream",
     "text": [
      "Maior elemento: 10\n",
      "Soma dos elementos: 24\n",
      "Número de ocorrências do primeiro elemento da lista: 3\n",
      "Média dos elementos: 2.1818181818181817\n",
      "Valor mais próximo da média dos elementos: 2\n",
      "Soma dos elementos com valor negativo: -7\n",
      "Quantidade de vizinhos iguais: 2\n"
     ]
    }
   ],
   "source": [
    "lista = [3, 5, 1, 2, 4, 10, 3, 3, -1, -3, -3]\n",
    "maiorElemento = max(lista)\n",
    "somaElementos = sum(lista)\n",
    "ocorrenciaElemento = lista.count(lista[0])\n",
    "avgElementos = (sum(lista) / len(lista))\n",
    "\n",
    "minimoValor = float(\"inf\")\n",
    "for valor in lista:\n",
    "    if abs(valor - avgElementos) < minimoValor:\n",
    "        valorProximo = valor\n",
    "        minimoValor = abs(valor - avgElementos)\n",
    "\n",
    "listaNegativa = []\n",
    "for valor in lista:\n",
    "    if (valor < 0):\n",
    "        listaNegativa.append(valor)\n",
    "\n",
    "somaElementosNegativos = sum(listaNegativa)\n",
    "\n",
    "qtdVizinhosIguais = 0\n",
    "for valor, prox in zip(lista,lista[1::]):\n",
    "    if valor == prox:\n",
    "        qtdVizinhosIguais += 1\n",
    "\n",
    "print(\"Maior elemento:\", maiorElemento)\n",
    "print(\"Soma dos elementos:\", somaElementos)\n",
    "print(\"Número de ocorrências do primeiro elemento da lista:\", ocorrenciaElemento)\n",
    "print(\"Média dos elementos:\", avgElementos)\n",
    "print(\"Valor mais próximo da média dos elementos:\", valorProximo)\n",
    "print(\"Soma dos elementos com valor negativo:\", somaElementosNegativos)\n",
    "print(\"Quantidade de vizinhos iguais:\", qtdVizinhosIguais)"
   ]
  },
  {
   "cell_type": "markdown",
   "metadata": {},
   "source": [
    "#### 2 Faça um programa que receba duas listas e retorne True se são iguais ou False caso contrario.\n",
    "#### Duas listas são iguais se possuem os mesmos valores e na mesma ordem."
   ]
  },
  {
   "cell_type": "code",
   "execution_count": 99,
   "metadata": {},
   "outputs": [
    {
     "name": "stdout",
     "output_type": "stream",
     "text": [
      "Lista 1 e 2 são diferentes\n",
      "False\n"
     ]
    }
   ],
   "source": [
    "lista1 = [3, 2, 1]\n",
    "lista2 = [1, 2, 3]\n",
    "\n",
    "print(\"Lista 1 e 2 são iguais\") if lista1 == lista2 else print(\"Lista 1 e 2 são diferentes\")\n",
    "print(True) if lista1 == lista2 else print(False)"
   ]
  },
  {
   "cell_type": "markdown",
   "metadata": {},
   "source": [
    "#### 3 Faça um programa que receba duas listas e retorne True se têm os mesmos elementos ou False caso contrário Duas listas possuem os mesmos elementos quando são compostas pelos mesmos valores, mas não obrigatoriamente na mesma ordem."
   ]
  },
  {
   "cell_type": "code",
   "execution_count": 137,
   "metadata": {},
   "outputs": [
    {
     "name": "stdout",
     "output_type": "stream",
     "text": [
      "Lista 1 e 2 tem elementos iguais\n",
      "True\n"
     ]
    }
   ],
   "source": [
    "lista1 = [3, 2, 1]\n",
    "lista2 = [1, 2, 3]\n",
    "\n",
    "iguais = True\n",
    "if len(lista1) == len(lista2):\n",
    "    for valor in lista1:\n",
    "        if valor in lista2:\n",
    "            continue\n",
    "        else:\n",
    "            iguais = False\n",
    "else:\n",
    "    iguais = False\n",
    "\n",
    "print(\"Lista 1 e 2 tem elementos iguais\") if iguais else print(\"Lista 1 e 2 tem elementos diferentes\")\n",
    "print(iguais)"
   ]
  },
  {
   "cell_type": "markdown",
   "metadata": {},
   "source": [
    "#### 4 Faça um programa que percorre uma lista com o seguinte formato: \n",
    "##### [['Brasil', 'Italia', [10, 9]], ['Brasil', 'Espanha', [5, 7]], ['Italia', 'Espanha', [7,8]]]. \n",
    "Essa lista indica o número de faltas que cada time fez em cada jogo. Na lista acima, no jogo entre Brasil e Itália, o Brasil fez 10 faltas e a Itália fez 9.\n",
    "O programa deve imprimir na tela:\n",
    "- o total de faltas do campeonato\n",
    "- o time que fez mais faltas\n",
    "- o time que fez menos faltas"
   ]
  },
  {
   "cell_type": "code",
   "execution_count": 217,
   "metadata": {},
   "outputs": [
    {
     "name": "stdout",
     "output_type": "stream",
     "text": [
      "Total de faltas do campeonato: 46\n",
      "Time Italia fez mais faltas: 16\n",
      "Time Brasil fez menos faltas: 15\n"
     ]
    }
   ],
   "source": [
    "jogos = [['Brasil', 'Italia', [10, 9]], ['Brasil', 'Espanha', [5, 7]], ['Italia', 'Espanha', [7,8]]]\n",
    "\n",
    "qtdFaltas = []\n",
    "for valor in jogos:\n",
    "    qtdFaltas += valor[2]\n",
    "\n",
    "def quantidade_faltas(jogos):\n",
    "    faltasBrasil = 0\n",
    "    faltasItalia = 0\n",
    "    faltasEspanha = 0\n",
    "\n",
    "    for valor in jogos:\n",
    "        if 'Brasil' in valor:\n",
    "            faltasBrasil += valor[2][valor.index('Brasil')]\n",
    "        if 'Italia' in valor:\n",
    "            faltasItalia += valor[2][valor.index('Italia')]\n",
    "        if 'Espanha' in valor:\n",
    "            faltasEspanha += valor[2][valor.index('Espanha')]\n",
    "            \n",
    "    totalFaltas = [faltasBrasil] + [faltasItalia] + [faltasEspanha]\n",
    "    return totalFaltas\n",
    "\n",
    "def mais_faltas(jogos):\n",
    "    totalFaltas = quantidade_faltas(jogos)\n",
    "\n",
    "    if totalFaltas.index(max(totalFaltas)) == 0:\n",
    "        return ['Brasil', totalFaltas[0]]\n",
    "    elif totalFaltas.index(max(totalFaltas)) == 1:\n",
    "        return ['Italia', totalFaltas[1]]\n",
    "    else:\n",
    "        return ['Espanha', totalFaltas[2]]\n",
    "    \n",
    "def menos_faltas(jogos):\n",
    "    totalFaltas = quantidade_faltas(jogos)\n",
    "\n",
    "    if totalFaltas.index(min(totalFaltas)) == 0:\n",
    "        return ['Brasil', totalFaltas[0]]\n",
    "    elif totalFaltas.index(min(totalFaltas)) == 1:\n",
    "        return ['Italia', totalFaltas[1]]\n",
    "    else:\n",
    "        return ['Espanha', totalFaltas[2]]\n",
    "    \n",
    "\n",
    "maisFaltas = mais_faltas(jogos)\n",
    "menosFaltas = menos_faltas(jogos)\n",
    "\n",
    "print(\"Total de faltas do campeonato:\", sum(qtdFaltas))\n",
    "print(\"Time %s fez mais faltas: %s\" %(maisFaltas[0], maisFaltas[1]))\n",
    "print(\"Time %s fez menos faltas: %s\" %(menosFaltas[0], menosFaltas[1]))"
   ]
  },
  {
   "cell_type": "code",
   "execution_count": null,
   "metadata": {},
   "outputs": [],
   "source": []
  },
  {
   "cell_type": "code",
   "execution_count": null,
   "metadata": {},
   "outputs": [],
   "source": []
  }
 ],
 "metadata": {
  "kernelspec": {
   "display_name": "Python 3",
   "language": "python",
   "name": "python3"
  },
  "language_info": {
   "codemirror_mode": {
    "name": "ipython",
    "version": 3
   },
   "file_extension": ".py",
   "mimetype": "text/x-python",
   "name": "python",
   "nbconvert_exporter": "python",
   "pygments_lexer": "ipython3",
   "version": "3.6.5"
  }
 },
 "nbformat": 4,
 "nbformat_minor": 2
}
